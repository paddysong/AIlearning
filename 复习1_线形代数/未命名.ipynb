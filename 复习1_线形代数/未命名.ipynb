{
 "cells": [
  {
   "cell_type": "code",
   "execution_count": 1,
   "metadata": {},
   "outputs": [
    {
     "name": "stdout",
     "output_type": "stream",
     "text": [
      "2.0945515197818168\n"
     ]
    }
   ],
   "source": [
    "\n",
    "import math\n",
    "\n",
    "\n",
    "def bisection(\n",
    "    function, a, b\n",
    "):  # finds where the function becomes 0 in [a,b] using bolzano\n",
    "\n",
    "    start = a\n",
    "    end = b\n",
    "    if function(a) == 0:  # one of the a or b is a root for the function\n",
    "        return a\n",
    "    elif function(b) == 0:\n",
    "        return b\n",
    "    elif (\n",
    "        function(a) * function(b) > 0\n",
    "    ):  # if none of these are root and they are both positive or negative,\n",
    "        # then his algorithm can't find the root\n",
    "        print(\"couldn't find root in [a,b]\")\n",
    "        return\n",
    "    else:\n",
    "        mid = start + (end - start) / 2.0\n",
    "        while abs(start - mid) > 10 ** -7:  # until we achieve precise equals to 10^-7\n",
    "            if function(mid) == 0:\n",
    "                return mid\n",
    "            elif function(mid) * function(start) < 0:\n",
    "                end = mid\n",
    "            else:\n",
    "                start = mid\n",
    "            mid = start + (end - start) / 2.0\n",
    "        return mid\n",
    "\n",
    "\n",
    "def f(x):\n",
    "    return math.pow(x, 3) - 2 * x - 5\n",
    "\n",
    "\n",
    "if __name__ == \"__main__\":\n",
    "    print(bisection(f, 1, 1000))"
   ]
  },
  {
   "cell_type": "code",
   "execution_count": null,
   "metadata": {},
   "outputs": [],
   "source": []
  }
 ],
 "metadata": {
  "kernelspec": {
   "display_name": "Python 3",
   "language": "python",
   "name": "python3"
  },
  "language_info": {
   "codemirror_mode": {
    "name": "ipython",
    "version": 3
   },
   "file_extension": ".py",
   "mimetype": "text/x-python",
   "name": "python",
   "nbconvert_exporter": "python",
   "pygments_lexer": "ipython3",
   "version": "3.7.3"
  }
 },
 "nbformat": 4,
 "nbformat_minor": 2
}
