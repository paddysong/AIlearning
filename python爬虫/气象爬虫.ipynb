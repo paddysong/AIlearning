{
 "cells": [
  {
   "cell_type": "code",
   "execution_count": 1,
   "metadata": {},
   "outputs": [
    {
     "ename": "IndentationError",
     "evalue": "expected an indented block (<ipython-input-1-e42c42d55578>, line 23)",
     "output_type": "error",
     "traceback": [
      "\u001b[0;36m  File \u001b[0;32m\"<ipython-input-1-e42c42d55578>\"\u001b[0;36m, line \u001b[0;32m23\u001b[0m\n\u001b[0;31m    response = requests.get('www.tianqihoubao.com % (city, year, month)).text\u001b[0m\n\u001b[0m                                                                             ^\u001b[0m\n\u001b[0;31mIndentationError\u001b[0m\u001b[0;31m:\u001b[0m expected an indented block\n"
     ]
    }
   ],
   "source": [
    "import requests\n",
    "\n",
    "from bs4 import BeautifulSoup\n",
    "\n",
    "import pandas as pd\n",
    "\n",
    "import time\n",
    "\n",
    "\n",
    "# 参数city为城市拼音,*years为年份参数（int类型）,若只传入一个数字则只爬取对应年份数据,若输入多个年份则默认以第一个年份为起始年,最后一个年份为终止年（例如传入2011,2018，则爬取2011到2018年天气数据），目前最久远的天气数据只有2011年的\n",
    "\n",
    "\n",
    "def get_weather_historic_data(city, *years):\n",
    "    res = []\n",
    "\n",
    "    for year in range(years[0], years[-1] + 1):\n",
    "\n",
    "        print('正在获取%d年数据...' % (year))\n",
    "\n",
    "        for month in range(1, 13):\n",
    "\n",
    "            if month < 10:\n",
    "response = requests.get('www.tianqihoubao.com % (city, year, month)).text\n",
    "\n",
    "            else:\n",
    "\n",
    "                response = requests.get('www.tianqihoubao.com' % (city, year, month)).text\n",
    "\n",
    "            soup = BeautifulSoup(response, \"html.parser\")\n",
    "\n",
    "            # 检查是否找到该时段天气数据，没有则跳到下个月\n",
    "\n",
    "            try:\n",
    "\n",
    "                ul = soup.find('div', class_='tqtongji2').find_all('ul')\n",
    "\n",
    "            except:\n",
    "\n",
    "                continue\n",
    "\n",
    "            # columns作为DataFrame对象的列名\n",
    "\n",
    "            columns = ul[0].get_text().split()\n",
    "\n",
    "   \n",
    "\n",
    "            for i in range(1, len(ul)):\n",
    "                res.append(ul[i].get_text().split())\n",
    "\n",
    "    # 返回pandas中的dataframe数据类型\n",
    "\n",
    "return pd.DataFrame(res, columns=columns)\n",
    "\n",
    "\n",
    "st = time.time()\n",
    "\n",
    "# shenzhen指的是深圳，2011是起始年份，2018是终止年份，即爬取2011到2018年深圳天气数据\n",
    "\n",
    "df = get_weather_historic_data('dali', 2012, 2018)\n",
    "\n",
    "# 保存成本地excel文件\n",
    "\n",
    "#你想要保存文件的位置\n",
    "df.to_excel(/zhou/深圳历史天气数据.xlsx')\n",
    "\n",
    "\n",
    "print('完成,用时', round(time.time() - st, 3), 's')\n",
    "\n"
   ]
  },
  {
   "cell_type": "code",
   "execution_count": null,
   "metadata": {},
   "outputs": [],
   "source": []
  }
 ],
 "metadata": {
  "kernelspec": {
   "display_name": "Python 3",
   "language": "python",
   "name": "python3"
  },
  "language_info": {
   "codemirror_mode": {
    "name": "ipython",
    "version": 3
   },
   "file_extension": ".py",
   "mimetype": "text/x-python",
   "name": "python",
   "nbconvert_exporter": "python",
   "pygments_lexer": "ipython3",
   "version": "3.7.3"
  }
 },
 "nbformat": 4,
 "nbformat_minor": 2
}
