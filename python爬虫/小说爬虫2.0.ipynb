{
 "cells": [
  {
   "cell_type": "code",
   "execution_count": 5,
   "metadata": {},
   "outputs": [
    {
     "name": "stderr",
     "output_type": "stream",
     "text": [
      "Some characters could not be decoded, and were replaced with REPLACEMENT CHARACTER.\n"
     ]
    },
    {
     "name": "stdout",
     "output_type": "stream",
     "text": [
      "已下载：20.00%\n",
      "已下载：40.00%\n",
      "已下载：60.00%\n",
      "已下载：80.00%\n",
      "已下载：100.00%\n",
      "下载完成！\n"
     ]
    }
   ],
   "source": [
    "import requests #用来抓取网页的html源码\n",
    "import random   #取随机数\n",
    "from bs4 import BeautifulSoup #用于代替正则式 取源码中相应标签中的内容\n",
    "import sys\n",
    "import time #时间相关操作\n",
    " \n",
    " \n",
    "class downloader(object):\n",
    "    def __init__(self):\n",
    "        self.server = 'http://www.biqukan.com'\n",
    "        self.target = 'http://www.biqukan.com/0_790/'\n",
    "        self.names = [] #章节名\n",
    "        self.urls = []  #章节链接\n",
    "        self.nums = 0   #章节数\n",
    " \n",
    "    \"\"\"\n",
    "    获取html文档内容\n",
    "    \"\"\"\n",
    "    def get_content(self,url):\n",
    "        # 设置headers是为了模拟浏览器访问 否则的话可能会被拒绝 可通过浏览器获取\n",
    "        header = {\n",
    "            'Accept': 'text/html,application/xhtml+xml,application/xml;q=0.9,*/*;q=0.8',\n",
    "            'Connection': 'keep-alive',\n",
    "            'Accept-Encoding': 'gzip, deflate',\n",
    "            'Accept-Language': 'zh-cn',\n",
    "            'User-Agent': 'Mozilla/5.0 (Macintosh; Intel Mac OS X 10_13_4) AppleWebKit/605.1.15 (KHTML, like Gecko) Version/11.1 Safari/605.1.15'\n",
    "        }\n",
    " \n",
    "        # 设置一个超时时间 取随机数 是为了防止网站被认定为爬虫\n",
    "        timeout = random.choice(range(80, 180))\n",
    " \n",
    "        while True:\n",
    "            try:\n",
    "                req = requests.get(url=url, headers=header, timeout=timeout)\n",
    "                break\n",
    "            except Exception as e:\n",
    "                print('3',e)\n",
    "                time.sleep(random.choice(range(8, 15)))\n",
    "        return req.text\n",
    " \n",
    "    \"\"\"\n",
    "    获取下载的章节目录\n",
    "    \"\"\"\n",
    "    def get_download_catalogue(self,url):\n",
    "        html1 = self.get_content(url)\n",
    "        html = html1.encode('iso-8859-1')\n",
    "        bf = BeautifulSoup(html, 'html.parser')\n",
    "        texts = bf.find_all('div', {'class': 'listmain'})\n",
    "        \n",
    "        div = texts[0]\n",
    "        a_s = div.find_all('a')\n",
    "        self.nums = len(a_s[0:17])   #我们需要去掉重复的最新章节列表 只为演示 我们只取 不重复的前5章\n",
    "        for each in a_s[12:17]:\n",
    "            self.names.append(each.string)\n",
    "            self.urls.append(self.server + each.get('href'))\n",
    " \n",
    "    \"\"\"\n",
    "    获取下载的具体章节\n",
    "    \"\"\"\n",
    "    def get_download_content(self, url):\n",
    "        html2 = self.get_content(url)\n",
    "        html = html2.encode('iso-8859-1')\n",
    "        bf = BeautifulSoup(html, 'html.parser')\n",
    "        texts = bf.find_all('div', {'class': 'showtxt', 'id': 'content'})\n",
    "        text = texts[0].text.replace('\\xa0' * 7, '\\n\\n')  # \\xa0表示连续的空白格\n",
    "        return text\n",
    " \n",
    "    \"\"\"\n",
    "    将文章写入文件\n",
    "    \"\"\"\n",
    "    def writer(self,name,path,text):\n",
    "        write_flag = True\n",
    "        with open(path, 'a', encoding='utf-8') as f:\n",
    "            f.write(name + '\\n')\n",
    "            f.writelines(text)\n",
    "            f.write('\\n\\n')\n",
    " \n",
    "if __name__ == '__main__':\n",
    "    dl = downloader()\n",
    "    dl.get_download_catalogue(dl.target)\n",
    "    for i in range(dl.nums):\n",
    "        dl.writer(dl.names[i], '天尊.txt', dl.get_download_content(dl.urls[i]))\n",
    "        print(\"已下载：%.2f%%\"% float((i+1)/dl.nums * 100) + '\\r')\n",
    "    print('下载完成！')\n",
    "\n",
    " \n",
    "\n",
    "\n",
    " \n",
    "\n"
   ]
  },
  {
   "cell_type": "code",
   "execution_count": null,
   "metadata": {},
   "outputs": [],
   "source": []
  },
  {
   "cell_type": "code",
   "execution_count": null,
   "metadata": {},
   "outputs": [],
   "source": []
  }
 ],
 "metadata": {
  "kernelspec": {
   "display_name": "Python 3",
   "language": "python",
   "name": "python3"
  },
  "language_info": {
   "codemirror_mode": {
    "name": "ipython",
    "version": 3
   },
   "file_extension": ".py",
   "mimetype": "text/x-python",
   "name": "python",
   "nbconvert_exporter": "python",
   "pygments_lexer": "ipython3",
   "version": "3.7.3"
  }
 },
 "nbformat": 4,
 "nbformat_minor": 2
}
