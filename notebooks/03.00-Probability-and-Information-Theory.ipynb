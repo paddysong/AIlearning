{
 "cells": [
  {
   "cell_type": "markdown",
   "metadata": {},
   "source": [
    "<!--BOOK_INFORMATION-->\n",
    "<img align=\"left\" style=\"padding-right:10px;\" src=\"figures/DLlogosmall.png\">\n",
    "\n",
    "*This notebook contains an excerpt from the [Deep Learning with Tensorflow 2.0](https://www.adhiraiyan.org/DeepLearningWithTensorflow.html) by Mukesh Mithrakumar. The code is released under the [MIT license](https://opensource.org/licenses/MIT) and is available for FREE [on GitHub](https://github.com/adhiraiyan/DeepLearningWithTF2.0).*\n",
    "\n",
    "*Open Source runs on love, laughter and a whole lot of coffee. Consider buying me [one](https://www.buymeacoffee.com/mmukesh) if you find this content useful!*\n",
    "\n"
   ]
  },
  {
   "cell_type": "markdown",
   "metadata": {},
   "source": [
    "<!--NAVIGATION-->\n",
    "< [02.00 - Linear Algebra](02.00-Linear-Algebra.ipynb) | [Contents](Index.ipynb) | [04.00 - Numerical Computation](04.00-Numerical-Computation.ipynb) >\n",
    "\n",
    "<a href=\"https://colab.research.google.com/github/adhiraiyan/DeepLearningWithTF2.0/blob/master/notebooks/03.00-Probability-and-Information-Theory.ipynb\"><img align=\"left\" src=\"https://colab.research.google.com/assets/colab-badge.svg\" alt=\"Open in Colab\" title=\"Open and Execute in Google Colaboratory\"></a>\n"
   ]
  },
  {
   "cell_type": "markdown",
   "metadata": {
    "colab_type": "text",
    "id": "ilbHEdPeoCTV"
   },
   "source": [
    "# 03.00 - Probability and Information Theory"
   ]
  },
  {
   "cell_type": "markdown",
   "metadata": {
    "colab_type": "text",
    "id": "AnKUDzrkCwZw"
   },
   "source": [
    "Probability theory is a mathematical framework for representing uncertain statements. But probability is not just an abstract concept in the math world, probability is all around us, and it can be fun to calculate the probability of events in our life. \n",
    "\n",
    "For example, the next time you get late in traffic and your boss calls you, in addition to the time you will reach, you can also say the probability of you reaching in that time, of course it would take you a little bit of math but if you did miss a meeting, you can tell your boss you did tell him there was a chance you might not make it right 😉.\n",
    "\n",
    "In artificial intelligence applications, we use probability theory in two major ways. \n",
    "\n",
    "- First, the laws of probability tell us how AI systems should reason, so we design our algorithms to compute or approximate\n",
    "various expressions derived using probability theory. \n",
    "\n",
    "- Second, we can use probability and statistics to theoretically analyze the behavior of proposed AI systems.\n",
    "\n",
    "While probability theory allows us to make uncertain statements and to reason in the presence of uncertainty, information theory enables us to quantify the amount of uncertainty in a probability distribution.\n",
    "\n",
    "If you are already familiar with probability theory and information theory, you may wish to skip this chapter except for section 3.14, which describes the graphs we use to describe structured probabilistic models for machine learning. If you have absolutely no prior experience with these subjects, this chapter should be sufficient to successfully carry out deep learning research projects, but I do suggest that you consult an additional resource.\n",
    "\n",
    "### Tensorflow Probability\n",
    "\n",
    "In this notebook, I will be introducing you to [Tensorflow Probability](https://www.tensorflow.org/probability), which was a toolbox introduced at the 2018 Tensorflow Developer Summit. This is a probabilistic programming toolbox for machine learning researchers and practitioners to build models. I won't be going exhaustively through all the functionalities of the toolbox but give you practical examples and help you get comfortable enough to go on your own and use some of the other amazing functions. You can read about an introduction to tensorflow probability [here](https://medium.com/tensorflow/introducing-tensorflow-probability-dca4c304e245). So even if you are familiar with the probability concepts, atleast go through the code to see how tensorflow probability works, this really is a very powerful API.\n",
    "\n",
    "As always, go through the material first and then try playing around with the code, specially with probability, manipulate the values and see if the results make sense, you can find the link to the Google Colab notebook at the end of the chapter."
   ]
  },
  {
   "cell_type": "code",
   "execution_count": 0,
   "metadata": {
    "colab": {},
    "colab_type": "code",
    "id": "-9DWHBrhXkOn"
   },
   "outputs": [],
   "source": [
    "\"\"\"\n",
    "At the moment of writing (05.20.2019) the only build that supports tensorflow probability is the tensorflow \n",
    "nightly build so we will use that to install tensorflow 2.0 and tensorflow probability.\n",
    "\"\"\"\n",
    "# Install tensorflow 2.0 and tensorflow probability from the nightly build\n",
    "!pip install --upgrade tf-nightly-2.0-preview tfp-nightly"
   ]
  },
  {
   "cell_type": "code",
   "execution_count": 0,
   "metadata": {
    "colab": {},
    "colab_type": "code",
    "id": "QzjT01o-XzQJ"
   },
   "outputs": [],
   "source": [
    "# Imports\n",
    "import os\n",
    "import random\n",
    "import sys\n",
    "\n",
    "import tensorflow as tf\n",
    "import tensorflow_probability as tfp\n",
    "\n",
    "# By convention, we generally refer to the tf probability distributions library as tfd.\n",
    "tfd = tfp.distributions\n",
    "\n",
    "import seaborn as sns\n",
    "\n",
    "from matplotlib import pyplot as plt\n",
    "from collections import defaultdict\n",
    "\n",
    "# Import helpers file\n",
    "\"\"\"\n",
    "For some plots we need to convert tensors into numpy ndarrays. For that we use the evaluate function in\n",
    "the helpers.py. If you are running this in Google Colab, make sure you upload the helpers.py found in the \n",
    "notebooks folder to Google Colab but if you are running this in binder, you should be fine.\n",
    "\"\"\"\n",
    "from helpers import evaluate\n",
    "\n",
    "\n",
    "# turning of tensorflow INFO, WARNING, and ERROR messages\n",
    "os.environ['TF_CPP_MIN_LOG_LEVEL'] = '3'\n",
    "\n",
    "# plt axis colors setup\n",
    "plt.rc_context({'axes.edgecolor':'orange', 'xtick.color':'red', 'ytick.color':'red', 'text.color':'orange'})\n",
    "\n",
    "color_b = 'dodgerblue'\n",
    "color_o = '#FF9A13'\n",
    "color_sb = '#0504aa'\n",
    "color_do = 'darkorange'"
   ]
  },
  {
   "cell_type": "code",
   "execution_count": 0,
   "metadata": {
    "colab": {
     "base_uri": "https://localhost:8080/",
     "height": 52
    },
    "colab_type": "code",
    "id": "hAHttN3SZINv",
    "outputId": "00144b6d-a29d-4362-fa35-efc03e8932d2"
   },
   "outputs": [
    {
     "name": "stdout",
     "output_type": "stream",
     "text": [
      "Tensorflow version: 2.0.0-dev20190602\n",
      "Tensorflow probability version: 0.8.0-dev20190602\n"
     ]
    }
   ],
   "source": [
    "# Check the versions of tensorflow 2.0 and tensorflow probability\n",
    "\n",
    "print(\"Tensorflow version: {}\".format(tf.__version__))\n",
    "print(\"Tensorflow probability version: {}\".format(tfp.__version__))"
   ]
  },
  {
   "cell_type": "markdown",
   "metadata": {
    "colab_type": "text",
    "id": "R0fssIDzoHk4"
   },
   "source": [
    "# 03.01 - Why Probability?"
   ]
  },
  {
   "cell_type": "markdown",
   "metadata": {
    "colab_type": "text",
    "id": "R15twv9NC0S0"
   },
   "source": [
    "Unlike the world of computer scientists and software engineers where things are entirely deterministic and certain, the world of machine learning must always deal with uncertain quantities and sometimes stochastic (non-deterministic or randomly determined) quantities.\n",
    "\n",
    "There are three possible sources of uncertainty:\n",
    "\n",
    "1. Inherent stochasticity: These are systems that have inherent randomness. Like using the python rand() function which outputs random numbers each time you run, or the dynamics of subatomic particles in quantum mechanics which are described as probabilistic in quantum mechanics.\n",
    "\n",
    "2. Incomplete observability: The best example for this is the Monty Hall problem, the one in the movie 21 Jim Sturgess gets asked, there are three doors and there's a ferrari behind one door and the other two lead to a goat. Watch the [scene](https://www.youtube.com/watch?v=cXqDIFUB7YU) to understand how to solve the Monty Hall problem. In this even though the contestant's choice is deterministic, but from the contestant's point of view the outcome is uncertain and deterministic systems appear to be stochastic when you can't observe all the variables.\n",
    "\n",
    "3. Incomplete modeling: Spoiler Warning! Well, at the end of End Game, when Iron man snapped away all of Thanos' forces, (I know, still recovering from the scene), we are left to wonder what happened to Gamora right, was she snapped away because she was with Thanos's forces initially or was she saved because she turned against Thanos. When we discard some information about the model the discarded information in this case whether Tony knew Gamora was good or bad results in an uncertainty in the model's predictions, in this case we don't know for certain if she is alive or not.\n",
    "\n",
    "Okay, swear, last Avengers reference. \n",
    "\n",
    "![frequentist probability](https://raw.githubusercontent.com/adhiraiyan/DeepLearningWithTF2.0/master/notebooks/figures/fig0300a.jpg)\n",
    "\n",
    "When Dr. Strange said we have 1 in 14 million chances of winning the war, he practically saw those 14 million futures, this is called __frequentist probability__, which defines an event's probability as the limit of its relative frequency in a large number of trials. But not always do we have Dr. Strange's time stone to see all the possible futures or events that are repeatable, in this case we turn to __Bayesian probability__, which uses probability to represent a degree of belief for certain events, with 1 indicating absolute certainty and 0 indicating absolute uncertainty.\n",
    "\n",
    "Even though the frequentist probability is related to rates at which events occur and Bayesian probability is related to qualitative levels of certainty, we treat both of them as behaving the same and we use the exact same formulas to compute the probability of events.\n"
   ]
  },
  {
   "cell_type": "markdown",
   "metadata": {
    "colab_type": "text",
    "id": "oXFaSXPqDBAp"
   },
   "source": [
    "# 03.02 - Random Variables"
   ]
  },
  {
   "cell_type": "markdown",
   "metadata": {
    "colab_type": "text",
    "id": "xxhVgZ2poLio"
   },
   "source": [
    "A __random variable__ is a variable that can take on different values randomly. On its own, a random variable is just a description of the states that are possible (you can think of these like functions), which must be coupled with a probability distribution that specifies how likely each of these states is.\n",
    "\n",
    "Well, if that doesn't make sense, let me give you an example, when I first heard about random variables, I thought this must work like a random number generator spitting out random values at each call, this is partly correct, let me clear it up. So, random number generators have two main components, a sampler, which is nothing more than a happy soul that flips a coin over and over again, reporting the results. And after this sampler, we have a random variable, the job of the random variable is to translate these Heads or Tails events into numbers based on our rules.\n",
    "\n",
    "Random variables can be discrete or continuous. A discrete random variable is one that has a finite or countably infinite number of states. Note that these states are not necessarily the integers; they can also just be named states that are not considered to have any numerical value. For example, gender (male, female, etc), for which we use an indicator function $\\mathbb{I}$ to map non-numeric values to numbers, e.g. male=0, female=1. A continuous random variable is associated with real value."
   ]
  },
  {
   "cell_type": "code",
   "execution_count": 0,
   "metadata": {
    "colab": {
     "base_uri": "https://localhost:8080/",
     "height": 545
    },
    "colab_type": "code",
    "id": "S86lC-woDPtm",
    "outputId": "4b0bb190-8524-40e6-8ee6-57840547e318"
   },
   "outputs": [
    {
     "data": {
      "image/png": "[encoded data removed]",
      "text/plain": [
       "<Figure size 432x288 with 1 Axes>"
      ]
     },
     "metadata": {
      "tags": []
     },
     "output_type": "display_data"
    },
    {
     "data": {
      "image/png": "[encoded data removed]",
      "text/plain": [
       "<Figure size 432x288 with 1 Axes>"
      ]
     },
     "metadata": {
      "tags": []
     },
     "output_type": "display_data"
    }
   ],
   "source": [
    "\"\"\"\n",
    "The Rademacher and Rayleigh are two types of distributions we will use to generate our samples.\n",
    "\n",
    "Rademacher: is a discrete probability distribution where a random variate X has a 50% chance of being +1 and a \n",
    "50% chance of being -1.\n",
    "\n",
    "Rayleigh: is a continuous probability distribution for non-negative valued random variables. \n",
    "\n",
    "Do not worry about what probability distributions mean, we will be looking at it in the next section, for now, \n",
    "you can think of Rademacher as the sampler, the happy guy who tosses coins over and over again where \n",
    "heads represent +1 and tails -1. \n",
    "And Rayleigh is the guy who works at a gas/petrol station who helps you to fill the tank and notes down how much \n",
    "you filled your tank (eg. 1.2l, 4.5l) which are continuous values.\n",
    "\"\"\"\n",
    "\n",
    "# Discrete random variable\n",
    "rademacher = tfp.math.random_rademacher([1, 100], dtype=tf.int32)\n",
    "\n",
    "# Continuous random variable\n",
    "rayleigh = tfp.math.random_rayleigh([1, 100], dtype=tf.float32)\n",
    "\n",
    "# Plot discrete random variable 1 and -1\n",
    "plt.title(\"Rademacher Discrete Random Variables\")\n",
    "plt.hist(rademacher, color=color_b)\n",
    "plt.show()\n",
    "\n",
    "# Plot continuous random variable\n",
    "plt.title(\"Rayleigh Continuous Random Variables\")\n",
    "plt.hist(rayleigh, color=color_o)\n",
    "plt.show()"
   ]
  },
  {
   "cell_type": "markdown",
   "metadata": {
    "colab_type": "text",
    "id": "XkOLCY4poSGC"
   },
   "source": [
    "# 03.03 - Probability Distributions"
   ]
  },
  {
   "cell_type": "markdown",
   "metadata": {
    "colab_type": "text",
    "id": "U5Dr76_jDRmc"
   },
   "source": [
    "A __probability distribution__ is a description of how likely a random variable or set of random variables is to take on each of its possible states. The way we describe probability distributions depends on whether the variables are discrete or continuous."
   ]
  },
  {
   "cell_type": "markdown",
   "metadata": {
    "colab_type": "text",
    "id": "HyQgAYScoeBf"
   },
   "source": [
    "## 3.3.1 Discrete Variables and Probability Mass functions"
   ]
  },
  {
   "cell_type": "markdown",
   "metadata": {
    "colab_type": "text",
    "id": "-Ff9eaV_rOQm"
   },
   "source": [
    "A probability distribution over discrete variables may be described using a __probability mass function (PMF)__. A probability mass function maps from a state of a random variable to the probability of that random variable taking on that state.\n",
    "\n",
    "For example the roll of a dice is random and a discrete variable means the roll can only have 1, 2, 3, 4, 5 or 6 on a die and no values inbetween. \n",
    "\n",
    "We denote probability mass functions with $P$, where we denote a __PMF__ equation as $P(X = x)$. Here $x$ can be a number on the dice when $X$ is the event of rolling the dice.\n"
   ]
  },
  {
   "cell_type": "code",
   "execution_count": 0,
   "metadata": {
    "colab": {
     "base_uri": "https://localhost:8080/",
     "height": 286
    },
    "colab_type": "code",
    "id": "zY5Bcz7V_UwE",
    "outputId": "7c78859d-602b-489e-e1f5-162923805a95"
   },
   "outputs": [
    {
     "name": "stdout",
     "output_type": "stream",
     "text": [
      "P(X = 6) = 16.43%\n"
     ]
    },
    {
     "data": {
      "image/png": "[encoded data removed]",
      "text/plain": [
       "<Figure size 432x288 with 1 Axes>"
      ]
     },
     "metadata": {
      "tags": []
     },
     "output_type": "display_data"
    }
   ],
   "source": [
    "\"\"\"\n",
    "In a fair 6 sided dice, when you roll, each number has a chance of 1/6 = 16.7% of landing and we can show \n",
    "this by running long enough rolls. So in this example, we do 10000 rolls and we verify that P(X=4) = 16.7%. \n",
    "In short, the probability from a PMF says what chance x has. Play around with the different x values, \n",
    "number of rolls and sides and see what kind of probability you get and see if it makes sense.\n",
    "\"\"\"\n",
    "\n",
    "def single_dice(x, sides, rolls):\n",
    "    \"\"\"Calculates and prints the probability of rolls.\n",
    "    Arguments:\n",
    "        x (int)        : is the number you want to calculate the probability for.\n",
    "        sides (int)    : Number of sides for the dice.\n",
    "        rolls (int)    : Number of rolls.\n",
    "    Returns:\n",
    "        a printout.\n",
    "    \"\"\"\n",
    "    \n",
    "    result = roll(sides, rolls)\n",
    "    for i in range(1, sides +1):\n",
    "        plt.bar(i, result[i] / rolls)\n",
    "    print(\"P(X = {}) = {}%\".format(x, tf.divide(tf.multiply(result[x], 100), rolls)))\n",
    "\n",
    "def roll(sides, rolls):\n",
    "    \"\"\"Returns a dictionary of rolls and the sides of each roll.\n",
    "    Arguments:\n",
    "        sides (int)    : Number of sides for the dice.\n",
    "        rolls (int)    : Number of rolls.\n",
    "    Returns:\n",
    "        a dictionary.\n",
    "    \"\"\"\n",
    "    \n",
    "    d = defaultdict(int)                    # creating a default dictionary\n",
    "    for _ in range(rolls):\n",
    "        d[random.randint(1, sides)] += 1    # The random process\n",
    "    return d\n",
    "\n",
    "\n",
    "single_dice(x=6, sides=6, rolls=10000)"
   ]
  },
  {
   "cell_type": "markdown",
   "metadata": {
    "colab_type": "text",
    "id": "NUC4worIz8Xa"
   },
   "source": [
    "To be a __PMF__ on a random variable x, a function $P$ must satisfy the following properties:\n",
    "\n",
    "- The domain of $P$ must be the set of all possible states of x. In our example above the possible states of x are from 1-6, try plugging in 7 for x and see what value you get.\n",
    "\n",
    "- $\\forall x \\in \\mathrm{x}, 0 \\leq P(x) \\leq 1$. An impossible event has probability 0, and no state can be less probable than that. Likewise, an event that is guaranteed to happen has probability 1, and no state can have a greater chance of occurring. If you tried plugging in 7 for our example above, you would have seen the probability of obtaining a 7 would be zero, that is an impossible event because 7 is not in our set.\n",
    "\n",
    "- $\\sum_{x \\in \\mathrm{x}} P(x) = 1$. Normalized property that prevents from obtaining probabilities greater than one. Meaning if you add all the individual values of our dice probabilities, it should sum to 1 or 100%."
   ]
  },
  {
   "cell_type": "markdown",
   "metadata": {
    "colab_type": "text",
    "id": "KfYsD_Ixzj_9"
   },
   "source": [
    "Probability mass functions can act on many variables at the same time. Such a probability distribution over many variables is known as a __joint probability mass function__. $P (\\mathrm{x} = x; \\mathrm{y} = y) = P(x) P(y)$ denotes the probability that $\\mathrm{x} = x$ and $\\mathrm{y} = y$ simultaneously."
   ]
  },
  {
   "cell_type": "code",
   "execution_count": 0,
   "metadata": {
    "colab": {
     "base_uri": "https://localhost:8080/",
     "height": 598
    },
    "colab_type": "code",
    "id": "xkuvtxb0NtI0",
    "outputId": "e476e9be-7fdd-4abd-d527-1bcc935aafd6"
   },
   "outputs": [
    {
     "data": {
      "image/png": "[encoded data removed]",
      "text/plain": [
       "<Figure size 432x288 with 1 Axes>"
      ]
     },
     "metadata": {
      "tags": []
     },
     "output_type": "display_data"
    },
    {
     "data": {
      "image/png": "[encoded data removed]",
      "text/plain": [
       "<Figure size 432x288 with 1 Axes>"
      ]
     },
     "metadata": {
      "tags": []
     },
     "output_type": "display_data"
    },
    {
     "name": "stdout",
     "output_type": "stream",
     "text": [
      "P(x = 16.9%), P(y = 16.39%), P(x = 4; y = 1) = 2.77%\n",
      "\n",
      "\n"
     ]
    }
   ],
   "source": [
    "\"\"\"\n",
    "In this example, we are rolling two dices, there are ways to simplify the code so it's not this long but \n",
    "I wanted to show that we are rolling two dice 1000 times, and in the example we are calculating the probability \n",
    "of rolling x=4 and y=1, this can be easily calculated by multiplying the individual probabilities of x and y.\n",
    "\"\"\"\n",
    "\n",
    "def multi_dice(x, y, sides, rolls, plot=True):\n",
    "    \"\"\"Calculates the joint probability of two dice.\n",
    "    Arguments:\n",
    "        x (int)        : is the number you want to calculate the probability for.\n",
    "        y (int)        : is the number you want to calculate the probability for.\n",
    "        sides (int)    : Number of sides for the dice.\n",
    "        rolls (int)    : Number of rolls.\n",
    "        plot (bool)    : Whether you want to plot the data or not.\n",
    "    Returns:\n",
    "        probabilities (float).\n",
    "    \"\"\"\n",
    "    \n",
    "    result1 = roll(sides, rolls)                         # first result from the rolls \n",
    "    result2 = roll(sides, rolls)                         # second result from the rolls \n",
    "    prob_x = tf.divide(result1[x], rolls)                # calculates the probability of x\n",
    "    prob_y = tf.divide(result2[y], rolls)                # calculates the probability of y\n",
    "    joint_prob = tf.multiply(prob_x, prob_y)             # calculates the joint probability of x&y by multiplying\n",
    "    \n",
    "    if plot:\n",
    "        for i in range(1, sides +1):\n",
    "            plt.title(\"Dice 1 {} Rolls\".format(rolls))\n",
    "            plt.bar(i, result1[i] / rolls, color=color_b)\n",
    "        plt.show()\n",
    "        for i in range(1, sides +1):\n",
    "            plt.title(\"Dice 2 {} Rolls\".format(rolls))\n",
    "            plt.bar(i, result2[i] / rolls, color=color_o)    \n",
    "        plt.show()\n",
    "        \n",
    "    return prob_x, prob_y, joint_prob\n",
    "    \n",
    "    \n",
    "prob_x, prob_y, joint_prob = multi_dice(x=4, y=1, sides=6, rolls=10000, plot=True)\n",
    "print(\"P(x = {:.4}%), P(y = {:.4}%), P(x = {}; y = {}) = {:.4}%\\n\\n\".format(tf.multiply(prob_x, 100), \n",
    "                                                                 tf.multiply(prob_y, 100), \n",
    "                                                                 4, 1, tf.multiply(joint_prob, 100)))\n"
   ]
  },
  {
   "cell_type": "markdown",
   "metadata": {
    "colab_type": "text",
    "id": "nW4BjDNHoaUx"
   },
   "source": [
    "## 3.3.2 Continuous Variables and Probability Density Functions"
   ]
  },
  {
   "cell_type": "markdown",
   "metadata": {
    "colab_type": "text",
    "id": "D5wHNvuvrYD5"
   },
   "source": [
    "When working with continuous random variables, we describe probability distributions using a __probability density function (PDF)__. \n",
    "\n",
    "Let's play a game shall we, what if I ask you to guess the integer that I am thinking of between 1 to 10, regardless of the number you pick, the probability of each of the options is the same (1/10) because you have 10 options and the probabilities must add up to 1. \n",
    "\n",
    "But what if I told you to guess the real number I am thinking between 0 and 1. Now this gets tricky, I can be thinking of 0.2, 0.5, 0.0004 and it can go on and on and the possibilities are endless. So we run into problems like how are we going to describe the probability of each option since there are infinite numbers. This is where __PDF__ comes to help, instead of asking the exact probability, we look for a probability that is close to a single number."
   ]
  },
  {
   "cell_type": "code",
   "execution_count": 0,
   "metadata": {
    "colab": {
     "base_uri": "https://localhost:8080/",
     "height": 268
    },
    "colab_type": "code",
    "id": "Y3-BmFfZ_ca5",
    "outputId": "88d20a3b-bdf8-4af7-d9c7-ee3dec0ead6f"
   },
   "outputs": [
    {
     "data": {
      "image/png": "[encoded data removed]",
      "text/plain": [
       "<Figure size 432x288 with 1 Axes>"
      ]
     },
     "metadata": {
      "tags": []
     },
     "output_type": "display_data"
    }
   ],
   "source": [
    "\"\"\"\n",
    "In our guessing game example, I told you how difficult it would be for you to guess a real number I am thinking of\n",
    "between 0 and 1 and below, we plot such a graph with minval of 0 and maxval of 1 and we \"guess\" the values 500\n",
    "times and the resulting distribution is plotted.\n",
    "\"\"\"\n",
    "\n",
    "# Outputs random values from a uniform distribution\n",
    "continuous = tf.random.uniform([1, 500], minval=0, maxval=1, dtype=tf.float32)    \n",
    "g = sns.distplot(continuous, color=color_b)\n",
    "plt.grid()"
   ]
  },
  {
   "cell_type": "markdown",
   "metadata": {
    "colab_type": "text",
    "id": "CzEkn5jM_c3H"
   },
   "source": [
    "To be a probability density function, a function $p$ must satisfy the\n",
    "following properties:\n",
    "\n",
    "- The domain of $p$ must be the set of all possible states of x\n",
    "\n",
    "- $\\forall x \\in \\mathrm{x}, p(x) \\geq 0$. Note that we do not require $p(x) \\leq 1$\n",
    "\n",
    "- $\\int p(x)dx = 1$"
   ]
  },
  {
   "cell_type": "markdown",
   "metadata": {
    "colab_type": "text",
    "id": "iIPgAL3d6LH1"
   },
   "source": [
    "A probability density function $p(x)$ does not give the probability of a specific state directly; instead the probability of landing inside an infinitesimal region with volume $\\delta x$ is given by $p(x) \\delta x$"
   ]
  },
  {
   "cell_type": "code",
   "execution_count": 0,
   "metadata": {
    "colab": {
     "base_uri": "https://localhost:8080/",
     "height": 268
    },
    "colab_type": "code",
    "id": "5hVI-gXLucO-",
    "outputId": "f7f2bd10-89fc-495e-c88c-90217bc38423"
   },
   "outputs": [
    {
     "data": {
      "image/png": "[encoded data removed]",
      "text/plain": [
       "<Figure size 432x288 with 1 Axes>"
      ]
     },
     "metadata": {
      "tags": []
     },
     "output_type": "display_data"
    }
   ],
   "source": [
    "\"\"\"\n",
    "Below is the same histogram plot of our continuous random variable, note that the values of y axis looks different\n",
    "between the seaborn distplot and the histogram plot because the sns distplot is also drawing a density plot.\n",
    "You can turn it off by setting ‘kde=False’ and you will get the same plot as you see below.\n",
    "The goal of the following plot is to show you that if you want to calculate the p(0.3) then you would need to \n",
    "calculate the volume of the region delta x\n",
    "\"\"\"\n",
    "\n",
    "n, bins, patches = plt.hist(continuous, color=color_b)\n",
    "patches[3].set_fc(color_o)\n",
    "plt.grid()"
   ]
  },
  {
   "cell_type": "markdown",
   "metadata": {
    "colab_type": "text",
    "id": "WRb140aG6xB-"
   },
   "source": [
    "We can  integrate the density function to find the actual probability mass of a set of points. Specifically, the probability that $x$ lies in some set $\\mathbb{S}$ is given by the integral of $p(x)$ over that set ($\\int_{[a,b]} p(x) dx$)"
   ]
  },
  {
   "cell_type": "markdown",
   "metadata": {
    "colab_type": "text",
    "id": "BPXT-42Gx7xm"
   },
   "source": [
    "__Tensorflow Probability Distribution Library__\n",
    "\n",
    "From here onwards, we will be using [TFP distributions](https://www.tensorflow.org/probability/api_docs/python/tfp/distributions) module often and we will be calling it as tfd (=tfp.distributions). So, before getting started, let me explain a few things about the module.\n",
    "\n",
    "The TF Probability uses distribution subclasses to represent stochastic, random variables. Recall the first cause of uncertainty, inherent stochasticity. This means that even if we knew all the values of the variables' parameters, it would still be random. We would see examples of these distributions in Section 9. In the previous example, we created the distribution using a random variable but extracting samples from it and manipulating those will not be as intuitive as it would when you are using the tfp distributions library. We usually start by creating a distribution and then when we draw samples from it, those samples become tensorflow tensors which can be deterministically manipulated.\n",
    "\n",
    "Some common methods in tfd:\n",
    "- sample(sample_shape=(), seed=None): Generates a specified sample size\n",
    "- mean(): Calculates the mean\n",
    "- mode(): Calculates the mode\n",
    "- variance(): Calculates the variance\n",
    "- stddev(): Calculates the standard deviation\n",
    "- prob(value): Calculates both the Probability density/mass function\n",
    "- log_prob(value): Calculates the Log probability density/mass function.\n",
    "- entropy(): Shannon entropy in nats.\n",
    "\n"
   ]
  },
  {
   "cell_type": "code",
   "execution_count": 0,
   "metadata": {
    "colab": {
     "base_uri": "https://localhost:8080/",
     "height": 286
    },
    "colab_type": "code",
    "id": "Ipem9I_AjVL1",
    "outputId": "e2fd3bef-a21c-438a-a13b-1f4e4ae9b63b"
   },
   "outputs": [
    {
     "name": "stdout",
     "output_type": "stream",
     "text": [
      "Probability of drawing 1.5 = 11.74% from the normal distribution\n"
     ]
    },
    {
     "data": {
      "image/png": "[encoded data removed]",
      "text/plain": [
       "<Figure size 432x288 with 1 Axes>"
      ]
     },
     "metadata": {
      "tags": []
     },
     "output_type": "display_data"
    }
   ],
   "source": [
    "\"\"\"\n",
    "Let's say we want to find the probability of 1.55 (p(1.5)) from a continuous distribution. We can ofcourse \n",
    "do the integral and find it but in tensorflow probability you have \"prob()\" which allows you to calculate\n",
    "both Probability Mass Function and Probability Density Function. \n",
    "For tfp.distributions.Normal \"loc\" is the mean and \"scale\" is the std deviation. Don't worry if you don't \n",
    "understand those, we will go through distributions in Section 9. And I recommend you come back and go through \n",
    "these examples again after you finish section 9.\n",
    "\n",
    "Also, there's nothing special about these numbers, play around with the scale, p(x) values and the k limits to \n",
    "get a better understanding.  \n",
    "\"\"\"\n",
    "\n",
    "# creating an x axis\n",
    "samples = tf.range(-10, 10, 0.001)\n",
    "\n",
    "# Create a Normal distribution with mean 0 and std deviation 3 \n",
    "normal_distribution = tfd.Normal(loc=0., scale=3)\n",
    "\n",
    "# Then we calculate the PDFs of drawing 1.5\n",
    "pdf_x = normal_distribution.prob(1.5)\n",
    "\n",
    "# We can't plot tensors so evaluate is a helper function to convert to ndarrays\n",
    "[pdf_x_] = evaluate([pdf_x])\n",
    "\n",
    "\n",
    "# Finally, we plot both the PDF of the samples and p(1.5)\n",
    "plt.plot(samples, normal_distribution.prob(samples), color=color_b)\n",
    "plt.fill_between(samples, normal_distribution.prob(samples), color=color_b)\n",
    "plt.bar(1.5, pdf_x_, color=color_o)\n",
    "plt.grid()\n",
    "\n",
    "print(\"Probability of drawing 1.5 = {:.4}% from the normal distribution\".format(pdf_x*100))"
   ]
  },
  {
   "cell_type": "markdown",
   "metadata": {
    "colab_type": "text",
    "id": "C55od0b_ojEP"
   },
   "source": [
    "# 03.04 - Marginal Probability"
   ]
  },
  {
   "cell_type": "markdown",
   "metadata": {
    "colab_type": "text",
    "id": "X12U6s0sDUhG"
   },
   "source": [
    "Sometimes we know the probability distribution over a set of variables and we want to know the probability distribution over just a subset of them. The probability distribution over the subset is known as the __marginal probability distribution__.\n",
    "\n",
    "For discrete random variables x and y, we use the __sum rule__ to find the marginal probability distribution.\n",
    "\n",
    "$$\\color{orange}{\\forall x \\in \\mathrm{x}, P(\\mathrm{x} = x) = \\displaystyle\\sum_{y} P(\\mathrm{x} = x, \\mathrm{y} = y) = \\displaystyle\\sum_{y} P( x) P(y)) \\tag{1}}$$\n",
    "\n",
    "For example,  I am all in for self driving cars but just for fun, let's say what is your chances of getting hit by Uber's, Tesla's or Googles' self driving car Waymo, you probably don't care about the individual probabilities right, you just wanna make sure you don't get hit by any, so in this case to calculate the probability of getting hit by any three of the cars you would be just summing up the individual joint probabilities of getting hit by each of the cars and that is called Marginal probability. Make sense? If not, don't worry, let's see an example below:"
   ]
  },
  {
   "cell_type": "code",
   "execution_count": 0,
   "metadata": {
    "colab": {
     "base_uri": "https://localhost:8080/",
     "height": 52
    },
    "colab_type": "code",
    "id": "8xABdv9B529W",
    "outputId": "0843feab-473d-4f0a-e58d-265d33a31269"
   },
   "outputs": [
    {
     "name": "stdout",
     "output_type": "stream",
     "text": [
      "Individual probabilities: [0.09999999 0.19999999 0.29999998]\n",
      "Marginal Probability of event [0, 0, 0]: 0.504\n"
     ]
    }
   ],
   "source": [
    "\"\"\"\n",
    "Let's start by creating three distributions for Waymo, Uber and Tesla (W, U and T) and use Bernoulli distribution\n",
    "since for Bernoulli distribution the outcome can only be 0 or 1, in our case, not hit and hit.\n",
    "\n",
    "Say the probabilities of getting hit for W = 0.1, U = 0.2 and T = 0.3. Also, nothing against Tesla 😉. \n",
    "With tfp.distributions, you don't have to create individual distributions line by line, you can specify the \n",
    "probabilities inside \"probs\" argument. This call defines three independent Bernoulli distributions, which happen \n",
    "to be contained in the same Python Distribution object (self_driving). \n",
    "\n",
    "The three events W, U and T are independent but we would like to specify a joint distribution to be able to \n",
    "calculate the marginal probability of the event [0, 0, 0], the probability of not getting hit by any three. \n",
    "For this we would be using a higher order distribution called Independent, which takes independent distributions \n",
    "and yields a new distribution. \n",
    "\"\"\"\n",
    "\n",
    "# Lets create three Bernoulli distributions for Waymo, Uber and Tesla \n",
    "self_driving = tfd.Bernoulli(probs=[.1, .2, .3])\n",
    "\n",
    "# Individual probabilities of getting hit by W, U and T and these should match with the specified probs\n",
    "print(\"Individual probabilities: {}\".format(self_driving.prob([1, 1, 1])))\n",
    "\n",
    "# Combining the distributions to create the independent distribution\n",
    "self_driving_joint = tfd.Independent(self_driving, reinterpreted_batch_ndims=1)\n",
    "\n",
    "# Finally let's calculate the marginal probability of [0, 0, 0]\n",
    "print(\"Marginal Probability of event [0, 0, 0]: {:.4}\".format(self_driving_joint.prob([0, 0, 0])))\n"
   ]
  },
  {
   "cell_type": "markdown",
   "metadata": {
    "colab_type": "text",
    "id": "SSn6txAnArZK"
   },
   "source": [
    "Now now, the value can be scary, I mean just 50% chance of surviving, not so good, but note that this is just probability, what you should worry is about the odds. We use probability and odds interchangeably in day to day life, but they mean different things, if you recall in my first example, Dr. Strange gave us the odds of winning as 1 in 14 million, so in the self driving car case, even though the probability may seem low, your odds may be higher. For a detailed difference between odds and probability, check [\"The Difference Between \"Probability\" and \"Odds\"\"](http://sphweb.bumc.bu.edu/otlt/MPH-Modules/BS/BS704_Confidence_Intervals/BS704_Confidence_Intervals10.html). \n",
    "\n",
    "Finally for continuous variables, we need to use integration instead of summation.\n",
    "\n",
    "$$\\color{orange}{p(x) = \\int p(x, y) dy \\tag{2}}$$\n",
    "\n",
    "And the way to find the marginal probabilities would be the same except you would be using a different distribution, based on continuous random variables, three more sections and you will have a better idea of which distributions to use 😉."
   ]
  },
  {
   "cell_type": "markdown",
   "metadata": {
    "colab_type": "text",
    "id": "WOrpoc16oo2F"
   },
   "source": [
    "# 03.05 - Conditional Probability"
   ]
  },
  {
   "cell_type": "markdown",
   "metadata": {
    "colab_type": "text",
    "id": "GHCMceBJDWZ8"
   },
   "source": [
    "In many cases, we are interested in the probability of some event, given that some other event has happened. This is called a __conditional probability__. We denote the conditional probability that $\\mathrm{y} = y$ given  $\\mathrm{x} = x$ as:\n",
    "\n",
    "$$\\color{orange}{P(\\mathrm{x} = x \\ | \\ \\mathrm{y} = y) = \\frac{P(\\mathrm{x} = x, \\mathrm{y} = y)}{P(\\mathrm{y} = y)} \\tag{3a}}$$\n",
    "\n",
    "This can be really useful on uncertain events, for example, if I ask you, do you think I walk to work? By now you should say something along, 40% chance or some arbitrary number that I walk to work, but if I give you additional information like say i live 10 minutes walking distance from work, then the probability of me walking to work got high right, this can happen the other way too, if I say I am 1 hour walking distance from work, then probability of me walking to work will get small. This is conditional probability. You will word it as \"probability of me walking to work given I live 10 minutes from work\". \n",
    "\n",
    "The conditional probability can also be given in terms of sets as below:\n",
    "\n",
    "$$\\color{orange}{P(\\mathrm{x} = x \\ | \\ \\mathrm{y} = y) = \\frac{P( x \\cap y)}{P(y)} \\tag{3b}}$$\n",
    "\n",
    "\n",
    "This can be illustrated as below:\n",
    "\n",
    "![Conditinoal probability](https://raw.githubusercontent.com/adhiraiyan/DeepLearningWithTF2.0/master/notebooks/figures/fig0305a.png)\n",
    "\n"
   ]
  },
  {
   "cell_type": "code",
   "execution_count": 0,
   "metadata": {
    "colab": {
     "base_uri": "https://localhost:8080/",
     "height": 105
    },
    "colab_type": "code",
    "id": "AfBanV1iiuNu",
    "outputId": "d6a059ab-332b-43b4-9608-42da1240c094"
   },
   "outputs": [
    {
     "name": "stdout",
     "output_type": "stream",
     "text": [
      "X1: [4] \t X2: [3] \t P(X1 or X2=4 | 7): 33.33%\n",
      "X1: [3] \t X2: [4] \t P(X1 or X2=4 | 7): 33.33%\n",
      "X1: [3] \t X2: [4] \t P(X1 or X2=4 | 7): 33.33%\n",
      "X1: [4] \t X2: [3] \t P(X1 or X2=4 | 7): 33.33%\n",
      "X1: [4] \t X2: [3] \t P(X1 or X2=4 | 7): 33.33%\n"
     ]
    }
   ],
   "source": [
    "\"\"\"\n",
    "Let's say I roll a fair die twice and obtain two numbers. \n",
    "X1 = result of the first roll and X2 = result of the second roll. \n",
    "Given that I know X1+X2 = 7, what is the probability that X1=4 or X2=4?\n",
    "\n",
    "We start by doing 100 trials and we create a Multinomial distribution where total_count= number of trials,\n",
    "probs = probability vectors for the events. We use Multinomial because it can have multiple outcomes and we \n",
    "take 2 samples from this distribution to resemble dice_1 and dice_2.\n",
    "\"\"\"\n",
    "\n",
    "for i in range(100):\n",
    "    dice_roll_distribution = tfd.Multinomial(total_count=1., probs=[1/6.]*6)\n",
    "    dice_sample = dice_roll_distribution.sample(2)\n",
    "\n",
    "    # tf.where returns the index of the samples and we add 1 because indexing starts from 0\n",
    "    dice_1 = tf.where(dice_sample[0])[0] + 1\n",
    "    dice_2 = tf.where(dice_sample[1])[0] + 1\n",
    "\n",
    "    if tf.equal((dice_1 + dice_2), 7):\n",
    "        # There are two conditions (4, 3) and (3, 4) that would result in a sum of 7 with either x1=4 or x2=4\n",
    "        prob_7 = (2/36.)\n",
    "\n",
    "        # There are 6 combinations that would result in getting a 7 {(6,1),(5,2),(4,3),(3,4),(2,5),(1,6)}\n",
    "        prob_4 = (6/36.)\n",
    "\n",
    "        prob_4_given_7 = tf.divide(prob_7,prob_4)*100\n",
    "        \n",
    "        def f1(): return tf.print(\"X1: {} \\t X2: {} \\t P(X1 or X2=4 | 7): {:.4}%\".format(dice_1, dice_2, \n",
    "                                                                                         prob_4_given_7), \n",
    "                                  output_stream=sys.stdout)\n",
    "        def f2(): return None\n",
    "        tf.cond(tf.logical_or(tf.equal(dice_1, 4), tf.equal(dice_2, 4)), f1, f2)\n",
    "    else:\n",
    "        continue\n"
   ]
  },
  {
   "cell_type": "markdown",
   "metadata": {
    "colab_type": "text",
    "id": "La9UEf6lovdr"
   },
   "source": [
    "# 03.06 - The Chain Rule of Conditional Probabilities"
   ]
  },
  {
   "cell_type": "markdown",
   "metadata": {
    "colab_type": "text",
    "id": "aXXNwW6pDXdy"
   },
   "source": [
    "Any joint probability distribution over many random variables may be decomposed into conditional distributions over only one variable:\n",
    "\n",
    "$$\\color{orange}{P(\\mathrm{x^{(1)}, \\cdots, x^{(n)}}) = P(\\mathrm{x^{(1)}}) \\textstyle\\prod_{i = 2}^{n} P (\\mathrm{x^{(i)}} | \\mathrm{x^{(1)}, \\cdots, x^{(i-1)}}) \\tag{4}}$$\n",
    "\n",
    "This observation is known as the __chain rule__, or __product rule__, of probability."
   ]
  },
  {
   "cell_type": "code",
   "execution_count": 0,
   "metadata": {
    "colab": {
     "base_uri": "https://localhost:8080/",
     "height": 34
    },
    "colab_type": "code",
    "id": "-fRNib4Pzajn",
    "outputId": "ae647780-e04e-4724-d0ff-10cbf2e125cc"
   },
   "outputs": [
    {
     "name": "stdout",
     "output_type": "stream",
     "text": [
      "Probability of P(a, b, c) = P(1, 1, 1): 0.856\n"
     ]
    }
   ],
   "source": [
    "\"\"\"\n",
    "Lets see an example for three events, but before that, let's break down the steps of finding the \n",
    "conditional probability with three events:\n",
    "P(a, b, c)  = P(a|b, c) P(b, c)\n",
    "            = P(a|b, c) P(b|c) P(c)\n",
    "            \n",
    "Now, to the example, in a factory there are 100 units of a certain product, 5 of which are defective. \n",
    "We pick three units from the 100 units at random. What is the probability that none of them are defective?\n",
    "\n",
    "We start by creating three Bernoulli distributions for the three events.\n",
    "Event 1: The probability of choosing a good part (95/100)\n",
    "Event 2: The probability of choosing a 2nd good part (94/99)\n",
    "Event 3: The probability of choosing a 3rd good part (93/98\n",
    "\n",
    "We can do this example without using the tfp.Independent call but it would take few more lines but this way, you \n",
    "can keep chaining the conditional probabilities\n",
    "\"\"\"\n",
    "\n",
    "# Let's start by creating three Bernoulli distributions\n",
    "units_distribution = tfd.Bernoulli(probs=[95/100., 94/99., 93/98.])\n",
    "\n",
    "# Let's join these probability distributions\n",
    "joint_unit_distribution = tfd.Independent(units_distribution, reinterpreted_batch_ndims=1)\n",
    "\n",
    "# Finally let's calculate the probability of picking one after the other\n",
    "print(\"Probability of P(a, b, c) = P(1, 1, 1): {:.4}\".format(joint_unit_distribution.prob([1, 1, 1])))\n"
   ]
  },
  {
   "cell_type": "markdown",
   "metadata": {
    "colab_type": "text",
    "id": "EoQqcQ7uo06t"
   },
   "source": [
    "# 03.07 - Independence and Conditional Independence"
   ]
  },
  {
   "cell_type": "markdown",
   "metadata": {
    "colab_type": "text",
    "id": "EvVbMpUEDY6b"
   },
   "source": [
    "Two random variables x and y are __independent__ if their probability distribution can be expressed as a product of two factors, one involving only x and one involving only y:\n",
    "\n",
    "$$\\color{orange}{\\forall x \\in \\mathrm{x}, y \\in \\mathrm{y}, \\ p(\\mathrm{x} = x, \\mathrm{y} = y) = p(\\mathrm{x} = x)p(\\mathrm{y} = y) \\tag{5}}$$\n",
    "\n",
    "For example, let's say Scooby-Doo and Tom live in Coolsville.The probability that Scooby gets home in time for dinner, and the probability that Tom gets home in time for dinner are independent, this is we wouldn't expect one to have an affect on the other. These are independent events.\n",
    "\n"
   ]
  },
  {
   "cell_type": "code",
   "execution_count": 0,
   "metadata": {
    "colab": {
     "base_uri": "https://localhost:8080/",
     "height": 34
    },
    "colab_type": "code",
    "id": "cGQjTnxIDZsH",
    "outputId": "3fe8912a-aaa6-47e9-bfba-eb0e674077e2"
   },
   "outputs": [
    {
     "name": "stdout",
     "output_type": "stream",
     "text": [
      "Probability of getting 4 on dice 1 given I get 1 on Dice 2: 21.0%\n"
     ]
    }
   ],
   "source": [
    "\"\"\"\n",
    "Let's revisit our multiple_dice example, there we calculated the probabilities of getting 4 on Dice 1 and 1 on \n",
    "dice two. In this example, let's expand that and see what the probability of getting 4 on dice 1 given we \n",
    "get 1 on dice 2 for 100 rolls. P(x = 4 | y = 1) = P(x=4, y=1) / P(y=1). \n",
    "\"\"\"\n",
    "\n",
    "# calculating the prob of x, y and the joint probability\n",
    "_, prob_y, prob_numerator = multi_dice(x=4, y=1, sides=6, rolls=100, plot=False)\n",
    "prob_denominator = prob_y\n",
    "conditional_prob = tf.divide(prob_numerator, prob_denominator)\n",
    "\n",
    "print(\"Probability of getting 4 on dice 1 given I get 1 on Dice 2: {}%\".format(tf.multiply(conditional_prob, 100)))"
   ]
  },
  {
   "cell_type": "markdown",
   "metadata": {
    "colab_type": "text",
    "id": "yFiv8s2xUPH0"
   },
   "source": [
    "Note the dice 1 throw that resulted getting four can happen without the need of dice 2 throw, these two events are  independent."
   ]
  },
  {
   "cell_type": "markdown",
   "metadata": {
    "colab_type": "text",
    "id": "UdzJu-qTkYyX"
   },
   "source": [
    "Two random variables x and y are __conditionally independent__ given a random variable z if the conditional probability distribution over x and y factorizes in this way for every value of z:\n",
    "\n",
    "$$\\color{orange}{\\forall x \\in \\mathrm{x}, y \\in \\mathrm{y}, z \\in \\mathrm{z}, \\ p(\\mathrm{x} = x, \\mathrm{y} = y \\ | \\ \\mathrm{z} = z) = p(\\mathrm{x} = x \\ | \\ \\mathrm{z} = z)p(\\mathrm{y} = y \\ | \\ \\mathrm{z} = z) \\tag{6}}$$\n",
    "\n",
    "Let's continue with our Scooby-Doo and Tom example, now let's say there was a monster mouse attack in the city. The probabilities of Scooby getting home in time and Tom getting home in time for dinner will depend on the monster mouse attack. However, Scooby and Tom have nothing to do with each other, then their probabilities of getting home in time are independent. Meaning we can't deduce from Scooby getting home late that Tom will get late as well."
   ]
  },
  {
   "cell_type": "markdown",
   "metadata": {
    "colab_type": "text",
    "id": "JU1__sFenHxK"
   },
   "source": [
    "We denote $x \\perp y$ means that x and y are independent while $x \\perp y \\ | \\ z$ means that x and y are conditionally independent given z."
   ]
  },
  {
   "cell_type": "markdown",
   "metadata": {
    "colab_type": "text",
    "id": "ikPIW8vto525"
   },
   "source": [
    "# 03.08 - Expectation, Variance and Covariance"
   ]
  },
  {
   "cell_type": "markdown",
   "metadata": {
    "colab_type": "text",
    "id": "mPMyrbI6DaLr"
   },
   "source": [
    "The __expectation__, or __expected value__, of some function $f(x)$ with respect to a probability distribution $P(x)$ is the average, or mean value, that $f$ takes on when $x$ is drawn from $P$. For discrete variables this can be computed with a summation:\n",
    "\n",
    "$$\\color{orange}{\\mathbb{E}_{x \\sim P} [f(x)] = \\displaystyle\\sum_{x} P(x) f(x) \\tag{7}}$$\n",
    "\n",
    "Let me motivate this with a simple example, let's say I take you to a casino, my treat for you working up to section 8 😉 and we play a simple game. You pay, well I pay 2 bitcoins and you roll a fair die. In this game if you get {1, 2, 3} lets call this event A, you will win 1 bitcoin, if event B={4, 5} occurs, you win 2 bitcoins and if C={6} occurs, you win 6  bitcoins. So, we being smart want to calculate how much we expect to make every time we play this game. So, if A occurs, we make -1 bitcoins, if B occurs, we don't make any bitcoin and if C occurs, we make 4 bitcoins. So, we can compute the average profit as:\n",
    "\n",
    "$(-1) \\times (1/6 + 1/6 + 1/6) + (0) \\times (1/6 + 1/6) + (4) \\times (1/6) = 1/6$\n",
    "\n",
    "And, we can expect to make 1/6 bitcoins on the average every time we play this game. So before you bet on something or play a game next time, just check how much you can expect to make out of it"
   ]
  },
  {
   "cell_type": "code",
   "execution_count": 0,
   "metadata": {
    "colab": {
     "base_uri": "https://localhost:8080/",
     "height": 34
    },
    "colab_type": "code",
    "id": "LHD57v3UDa5S",
    "outputId": "e7bcebee-da55-42a8-dfea-c6fcd3b59813"
   },
   "outputs": [
    {
     "name": "stdout",
     "output_type": "stream",
     "text": [
      "Expectation of the bitcoin game E(X) is : 0.167\n"
     ]
    }
   ],
   "source": [
    "# Let's see the bitcoin example in code. \n",
    "\n",
    "bitcoins = [-1, -1, -1, 0, 0, 4, 4]             # gives the winnings we can make for each face of the dice\n",
    "dice = [1/6.]*6                                 # probability of landing a face\n",
    "  \n",
    "expectation = 0\n",
    "for i in range(0, len(dice)):\n",
    "    expectation += (dice[i] * bitcoins[i])      # summing p(x) * f(x)\n",
    "\n",
    "# Calculate the expectation   \n",
    "print( \"Expectation of the bitcoin game E(X) is : {:.4}\".format(expectation)) "
   ]
  },
  {
   "cell_type": "markdown",
   "metadata": {
    "colab_type": "text",
    "id": "wZzOD1dUsBnR"
   },
   "source": [
    "For continuous variables, it is computed with an integral:\n",
    "\n",
    "$$\\color{orange}{\\mathbb{E}_{x \\sim P} [f(x)] = \\int p(x) f(x) dx \\tag{8}}$$"
   ]
  },
  {
   "cell_type": "code",
   "execution_count": 0,
   "metadata": {
    "colab": {
     "base_uri": "https://localhost:8080/",
     "height": 286
    },
    "colab_type": "code",
    "id": "YG42pk00wzUn",
    "outputId": "de99a4f8-2106-40b1-c861-18f89bad44cc"
   },
   "outputs": [
    {
     "name": "stdout",
     "output_type": "stream",
     "text": [
      "The Expectation of f(x) = 1 for the limit 0 to 1: 0.5\n"
     ]
    },
    {
     "data": {
      "image/png": "[encoded data removed]",
      "text/plain": [
       "<Figure size 432x288 with 1 Axes>"
      ]
     },
     "metadata": {
      "tags": []
     },
     "output_type": "display_data"
    }
   ],
   "source": [
    "# Let's create a uniform distribution such that the limit be between 0 and 1\n",
    "uniform_distribution = tfd.Uniform(low=0.0, high=1.0)\n",
    "\n",
    "# Here we find the expectation of the uniform distribution\n",
    "continuous_expectation = uniform_distribution.mean()\n",
    "\n",
    "print(\"The Expectation of f(x) = 1 for the limit 0 to 1: {}\".format(continuous_expectation))\n",
    "\n",
    "# Plotting the expectation\n",
    "plt.hist(continuous_expectation, color=color_b)\n",
    "plt.grid()"
   ]
  },
  {
   "cell_type": "markdown",
   "metadata": {
    "colab_type": "text",
    "id": "8HGPHnxPx6Ro"
   },
   "source": [
    "Expectations are linear, for example,\n",
    "\n",
    "$$\\color{orange}{\\mathbb{E}_{\\mathrm{x}}[\\alpha f(x) + \\beta g(x)] = \\alpha \\mathbb{E}_{\\mathrm{x}}[f(x)] + \\beta \\mathbb{E}_{\\mathrm{x}}[g(x)]  \\tag{9}}$$\n",
    "\n",
    "where $\\alpha \\ \\text{and} \\ \\beta$ are not dependent on $x$.\n"
   ]
  },
  {
   "cell_type": "markdown",
   "metadata": {
    "colab_type": "text",
    "id": "A3F6gdi44nmk"
   },
   "source": [
    "When we predict the expected value of an experiment, we would like our outcome to not deviate too much from the expected value and __variance__ gives a measure of how much the values of a function of a random variable x vary as we sample different values of x from its probability distribution:\n",
    "\n",
    "$$\\color{orange}{Var(f(x)) = \\mathbb{E} \\Big[ (f(x) - \\mathbb{E}[f(x)])^2 \\Big] \\tag{10}}$$\n",
    "\n",
    "When the variance is low, the values of $f(x)$ cluster near their expected value. The square root of the variance is known as the __standard deviation__."
   ]
  },
  {
   "cell_type": "code",
   "execution_count": 0,
   "metadata": {
    "colab": {
     "base_uri": "https://localhost:8080/",
     "height": 304
    },
    "colab_type": "code",
    "id": "CsrNQ40k5teE",
    "outputId": "308e1396-4011-4a5f-c7d4-aa047ecf4ce9"
   },
   "outputs": [
    {
     "name": "stdout",
     "output_type": "stream",
     "text": [
      "Blue Plot Variance: 0.25 \n",
      "Orange Plot Variance: 2.25\n"
     ]
    },
    {
     "data": {
      "image/png": "[encoded data removed]",
      "text/plain": [
       "<Figure size 432x288 with 1 Axes>"
      ]
     },
     "metadata": {
      "tags": []
     },
     "output_type": "display_data"
    }
   ],
   "source": [
    "# creating an x axis from -3 to 3 with 0.001 increments\n",
    "x_axis = tf.range(-3, 3, 0.001)\n",
    "\n",
    "# Let's create two distributions to see how variance affects the distributions. loc(=mean) and std.deviation(=scale)\n",
    "distribution_1 = tfd.Normal(loc=0., scale=0.5)\n",
    "distribution_2 = tfd.Normal(loc=0., scale=1.5)\n",
    "\n",
    "# Distribution plot 1\n",
    "plt.plot(x_axis, distribution_1.prob(x_axis), color=color_b)\n",
    "plt.fill_between(x_axis, distribution_1.prob(x_axis), color=color_b)\n",
    "\n",
    "# Distribution plot 2\n",
    "plt.plot(x_axis, distribution_2.prob(x_axis), color=color_o)\n",
    "plt.fill_between(x_axis, distribution_2.prob(x_axis), color=color_o)\n",
    "plt.grid()\n",
    "\n",
    "print(\"Blue Plot Variance: {} \\nOrange Plot Variance: {}\".format(distribution_1.variance(), distribution_2.variance()))"
   ]
  },
  {
   "cell_type": "markdown",
   "metadata": {
    "colab_type": "text",
    "id": "_mWTbT8J5whF"
   },
   "source": [
    "The __covariance__ gives some sense of how much two values are linearly related to each other, as well as the scale of these variables:\n",
    "\n",
    "$$\\color{orange}{Cov(f(x), g(y)) = \\mathbb{E} \\big[ (f(x) - \\mathbb{E}[f(x)]) (g(y) - \\mathbb{E}[g(y)]) \\big] \\tag{11}}$$\n",
    "\n",
    "In simple terms covariance refers to the measure of how two random variable in a data set will change together.\n",
    "\n",
    "- High absolute values of the covariance mean that the values change very much and are both far from their respective means at the same time. \n",
    "\n",
    "- If the sign of the covariance is positive, then both variables tend to take on relatively high values simultaneously. \n",
    "\n",
    "- If the sign of the covariance is negative, then one variable tends to take on a relatively high value at the times that the other takes on a relatively low value and vice versa."
   ]
  },
  {
   "cell_type": "code",
   "execution_count": 0,
   "metadata": {
    "colab": {
     "base_uri": "https://localhost:8080/",
     "height": 34
    },
    "colab_type": "code",
    "id": "hxunhVOu-JfK",
    "outputId": "9a93c588-d66c-4cf1-f481-93cd415fb8d4"
   },
   "outputs": [
    {
     "name": "stdout",
     "output_type": "stream",
     "text": [
      "Covariance of f(x) and g(y): [ 0.10961602 -0.08872931  0.03041128]\n"
     ]
    }
   ],
   "source": [
    "\"\"\"\n",
    "To find the covariance we will be using another tensorflow probability library called the stats.\n",
    "\"\"\"\n",
    "\n",
    "# We start by creating two normal distributions to represent f(x) and g(y)\n",
    "f_x = tf.random.normal(shape=(100, 1, 3))\n",
    "g_y = tf.random.normal(shape=(100, 1, 3))\n",
    "\n",
    "# cov[i, j] is the sample covariance between fx[:, i, j] and fy[:, i, j].\n",
    "covariance = tfp.stats.covariance(f_x, g_y, sample_axis=0, event_axis=None)\n",
    "\n",
    "print(\"Covariance of f(x) and g(y): {}\".format(covariance[0]))"
   ]
  },
  {
   "cell_type": "markdown",
   "metadata": {
    "colab_type": "text",
    "id": "DVyLCWb65xbw"
   },
   "source": [
    "Sometimes we confuse covariance with __correlation__, even though they both indicate whether variables are positively or negatively related to each other, they defer from the fact that covariance only determines whether the different units of the variables are increasing or decreasing, while correlation measures how closely the variables move together by normalizing the contribution of each variable."
   ]
  },
  {
   "cell_type": "code",
   "execution_count": 0,
   "metadata": {
    "colab": {
     "base_uri": "https://localhost:8080/",
     "height": 34
    },
    "colab_type": "code",
    "id": "n-PJ8MrC5x3s",
    "outputId": "9d5960cf-37b0-4b3b-df08-f2cd94dcc912"
   },
   "outputs": [
    {
     "name": "stdout",
     "output_type": "stream",
     "text": [
      "Correlation of f(x) and g(y): [ 0.10907104 -0.09540905  0.02875604]\n"
     ]
    }
   ],
   "source": [
    "# correlation of f(x)\n",
    "correlation = tfp.stats.correlation(f_x, g_y, sample_axis=0, event_axis=None)\n",
    "\n",
    "print(\"Correlation of f(x) and g(y): {}\".format(correlation[0]))\n"
   ]
  },
  {
   "cell_type": "markdown",
   "metadata": {
    "colab_type": "text",
    "id": "mgoNdEFR7Ms6"
   },
   "source": [
    "The notions of covariance and dependence are related but distinct concepts. They are related because two variables that are independent have zero covariance, and two variables that have nonzero covariance are dependent. \n",
    "\n",
    "Independence, however, is a distinct property from covariance. For two variables to have zero covariance, there must be no linear dependence between them. Independence is a stronger requirement than zero covariance, because independence also excludes nonlinear relationships. "
   ]
  },
  {
   "cell_type": "markdown",
   "metadata": {
    "colab_type": "text",
    "id": "G_ZeCzXG75-z"
   },
   "source": [
    "The __covariance matrix__ of a random vector $x \\in \\mathbb{R}^n$ is an *n x n* matrix, such that:\n",
    "\n",
    "$$\\color{orange}{Cov(\\mathbf{x})_{i, j} = Cov(\\mathrm{x}_i, \\mathrm{x}_j) \\tag{12}}$$\n",
    "\n",
    "The diagonal elements of the covariance give the variance:\n",
    "\n",
    "$$\\color{orange}{ Cov(\\mathrm{x}_i, \\mathrm{x}_j) = Var(\\mathrm{x}_i) \\tag{13}}$$"
   ]
  },
  {
   "cell_type": "code",
   "execution_count": 0,
   "metadata": {
    "colab": {
     "base_uri": "https://localhost:8080/",
     "height": 105
    },
    "colab_type": "code",
    "id": "NCQNf3mGpNNo",
    "outputId": "cb853763-f588-4884-8930-ae55dd6b7bd0"
   },
   "outputs": [
    {
     "name": "stdout",
     "output_type": "stream",
     "text": [
      "Variance of x: [ 0.10961602 -0.08872931  0.03041128] \n",
      "Covariance Matrix for x: \n",
      "[[ 0.77077645  0.01786118 -0.01279851]\n",
      " [ 0.01786118  1.0053835   0.04651672]\n",
      " [-0.01279851  0.04651672  1.0021778 ]]\n"
     ]
    }
   ],
   "source": [
    "# covariance matrix of f(x)\n",
    "cov_matrix = tfp.stats.covariance(f_x, sample_axis=0, event_axis=-1)\n",
    "\n",
    "print(\"Variance of x: {} \\nCovariance Matrix for x: \\n{}\".format(covariance[0], cov_matrix[0]))"
   ]
  },
  {
   "cell_type": "markdown",
   "metadata": {
    "colab_type": "text",
    "id": "q0WmVQGYo_UF"
   },
   "source": [
    "# 03.09 - Common Probability Distributions"
   ]
  },
  {
   "cell_type": "markdown",
   "metadata": {
    "colab_type": "text",
    "id": "fP22w74iDbZ9"
   },
   "source": [
    "A probability distribution is a function that describes how likely you will obtain the different possible values of the random variable.\n",
    "\n",
    "Following are a few examples of popular distributions."
   ]
  },
  {
   "cell_type": "markdown",
   "metadata": {
    "colab_type": "text",
    "id": "tdIHXb1hpJMv"
   },
   "source": [
    "## 3.9.1 Bernoulli Distribution"
   ]
  },
  {
   "cell_type": "markdown",
   "metadata": {
    "colab_type": "text",
    "id": "MSHGGlbt9GZJ"
   },
   "source": [
    "The __Bernoulli distribution__ is a distribution over a single binary random variable. It is controlled by a single parameter $\\phi \\in [0, 1]$, which gives the probability of the random variable being equal to 1. It has the following properties:\n",
    "\n",
    "$$\n",
    "\\color{orange}{P(\\mathrm{x} = 1) = \\phi} \\\\\n",
    "\\color{orange}{P(\\mathrm{x} = 0) = 1 - \\phi} \\\\\n",
    "\\color{orange}{P(\\mathrm{x} = x) = \\phi^x (1 - \\phi)^{1-x}} \\\\\n",
    "\\color{orange}{\\mathbb{E}_{\\mathrm{x}} [\\mathrm{x}] = \\phi}\\\\\n",
    "\\color{orange}{ Var_{\\mathrm{x}}(\\mathrm{x}) = \\phi(1 - \\phi) \\tag{14}}\n",
    "$$"
   ]
  },
  {
   "cell_type": "markdown",
   "metadata": {
    "colab_type": "text",
    "id": "2Sc3MHiJRmkn"
   },
   "source": [
    "The Bernoulli distribution is a special case of the __Binomial distribution__ where there is only one trial. A binomial distribution is the sum of independent and identically distributed Bernoulli random variables. For example, let's say you do a single coin toss, the probability of getting heads is p. The random variable that represents your winnings after one coin toss is a Bernoulli random variable. So, what is the probability that you land heads in 100 tosses, this is where you use the Bernoulli trials, in general, if there are n Bernoulli trials, then the sum of those trials is a binomial distribution with parameters n and p. Below, we will see an example for 1000 trials and the resulting Binomial distribution is plotted.\n"
   ]
  },
  {
   "cell_type": "code",
   "execution_count": 0,
   "metadata": {
    "colab": {
     "base_uri": "https://localhost:8080/",
     "height": 357
    },
    "colab_type": "code",
    "id": "Sak7inKKG4jM",
    "outputId": "133e1e82-7e9d-4081-f295-29c0545e87a8"
   },
   "outputs": [
    {
     "name": "stdout",
     "output_type": "stream",
     "text": [
      "P(x = 1) = 0.5\n",
      "P(x = 0) = 1 - 0.5 = 0.5\n",
      "Property three is a generalization of property 1 and two\n",
      "For Bernoulli distribution The expected value of a Bernoulli random variable  X is p (E[X] = p)\n",
      "Var(x) = 0.25 (1 - 0.25)\n"
     ]
    },
    {
     "data": {
      "image/png": "[encoded data removed]",
      "text/plain": [
       "<Figure size 432x288 with 1 Axes>"
      ]
     },
     "metadata": {
      "tags": []
     },
     "output_type": "display_data"
    }
   ],
   "source": [
    "# Create a Bernoulli distribution with a probability .5 and sample size of 1000\n",
    "bernoulli_distribution = tfd.Bernoulli(probs=.5)\n",
    "bernoulli_trials = bernoulli_distribution.sample(1000)\n",
    "\n",
    "# Plot Bernoulli Distribution\n",
    "sns.distplot(bernoulli_trials, color=color_b)\n",
    "\n",
    "# Properties of Bernoulli distribution\n",
    "property_1 = bernoulli_distribution.prob(1)\n",
    "print(\"P(x = 1) = {}\".format(property_1))\n",
    "\n",
    "property_2 = bernoulli_distribution.prob(0)\n",
    "print(\"P(x = 0) = 1 - {} = {}\".format(property_1, property_2))\n",
    "\n",
    "print(\"Property three is a generalization of property 1 and 2\")\n",
    "\n",
    "print(\"For Bernoulli distribution The expected value of a Bernoulli random variable  X is p (E[X] = p)\")\n",
    "\n",
    "# Variance is calculated as Var = E[(X - E[X])**2]\n",
    "property_5 = bernoulli_distribution.variance()\n",
    "print(\"Var(x) = {0} (1 - {0})\".format(property_5))"
   ]
  },
  {
   "cell_type": "markdown",
   "metadata": {
    "colab_type": "text",
    "id": "ao11ba9JpRgy"
   },
   "source": [
    "## 3.9.2 Multinoulli Distribution"
   ]
  },
  {
   "cell_type": "markdown",
   "metadata": {
    "colab_type": "text",
    "id": "Gu1ufoQi9KJB"
   },
   "source": [
    "The __multinoulli__ or __categorical distribution__ is a distribution over a single discrete variable with *k* different states, where *k* is finite. The multinoulli distribution is a special case of the __multinomial distribution__, which is a generalization of Binomial distribution. A multinomial distribution is the distribution over vectors in ${0, \\cdots, n}^k$ representing how many times each of the *k* categories visited when *n* samples are drawn from a multinoulli distribution. "
   ]
  },
  {
   "cell_type": "code",
   "execution_count": 0,
   "metadata": {
    "colab": {
     "base_uri": "https://localhost:8080/",
     "height": 340
    },
    "colab_type": "code",
    "id": "w7XQAVlFUw-J",
    "outputId": "925249b6-4369-4c23-9ee5-9f0e530492ba"
   },
   "outputs": [
    {
     "name": "stdout",
     "output_type": "stream",
     "text": [
      "Dice throw values: [[ 8. 10. 13. 12.  9.  8.]]\n",
      "In sixty trials, index 0 represents the times the dice landed on 1 (= 8.0 times) and \n",
      "index 1 represents the times the dice landed on 2 (= 10.0 times)\n",
      "\n"
     ]
    },
    {
     "data": {
      "image/png": "[encoded data removed]",
      "text/plain": [
       "<Figure size 432x288 with 1 Axes>"
      ]
     },
     "metadata": {
      "tags": []
     },
     "output_type": "display_data"
    }
   ],
   "source": [
    "# For a fair dice\n",
    "p = [1/6.]*6\n",
    "\n",
    "# Multinoulli distribution with 60 trials and sampled once\n",
    "multinoulli_distribution = tfd.Multinomial(total_count=60., probs=p)\n",
    "multinoulli_pdf = multinoulli_distribution.sample(1)\n",
    "\n",
    "print(\"\"\"Dice throw values: {}\n",
    "In sixty trials, index 0 represents the times the dice landed on 1 (= {} times) and \n",
    "index 1 represents the times the dice landed on 2 (= {} times)\\n\"\"\".format(multinoulli_pdf, \n",
    "                                                                           multinoulli_pdf[0][0], \n",
    "                                                                           multinoulli_pdf[0][1]))\n",
    "\n",
    "g = sns.distplot(multinoulli_pdf, color=color_b)\n",
    "plt.grid()"
   ]
  },
  {
   "cell_type": "markdown",
   "metadata": {
    "colab_type": "text",
    "id": "hX8HlQZQxTh3"
   },
   "source": [
    "There are other discrete distributions like:\n",
    "- Hypergeometric Distribution: models sampling without replacement\n",
    "- Poisson Distribution: expresses the probability of a given number of events occurring in a fixed interval of time and/or space if these events occur with a known average rate and independently of the time since the last event.\n",
    "- Geometric Distribution:  counts the number of Bernoulli trials needed to get one success.\n",
    "\n",
    "Since this will not be an exhaustive introduction to distributions, I presented only the major ones and for the curious ones, if you want to learn more, you can take a look at the references I mention at the end of the notebook.\n",
    "\n",
    "Next, we will take a look at some continuous distributions.\n"
   ]
  },
  {
   "cell_type": "markdown",
   "metadata": {
    "colab_type": "text",
    "id": "LAqHMA_IpVJb"
   },
   "source": [
    "## 3.9.3 Gaussian Distribution"
   ]
  },
  {
   "cell_type": "markdown",
   "metadata": {
    "colab_type": "text",
    "id": "ANRQXEAe9PNB"
   },
   "source": [
    "The most commonly used distribution over real numbers is the __normal distribution__, also known as the __Gaussian distribution__:\n",
    "\n",
    "$$\\color{orange}{\\mathcal{N}(x; \\mu, \\sigma^2) = \\sqrt{\\frac{1}{2 \\pi \\sigma^2}} exp \\Big(- \\frac{1}{2 \\sigma^2} (x - \\mu)^2 \\Big) \\tag{15}}$$\n",
    "\n",
    "The two parameters $\\mu \\in \\mathbb{R}$ and $\\sigma \\in (0, \\infty)$ control the normal distribution. The parameter $\\mu$ gives the coordinate of the central peak. This is also the mean of the distribution: $\\mathbb{E}[\\mathrm{x}] = \\mu$. The standard deviation of the distribution is given by $\\sigma$, and the variance by $\\sigma^2$."
   ]
  },
  {
   "cell_type": "code",
   "execution_count": 0,
   "metadata": {
    "colab": {
     "base_uri": "https://localhost:8080/",
     "height": 268
    },
    "colab_type": "code",
    "id": "xr20vDx3XxfS",
    "outputId": "6aa40b77-a8b6-4953-bd85-795cd2ae4723"
   },
   "outputs": [
    {
     "data": {
      "image/png": "[encoded data removed]",
      "text/plain": [
       "<Figure size 432x288 with 1 Axes>"
      ]
     },
     "metadata": {
      "tags": []
     },
     "output_type": "display_data"
    }
   ],
   "source": [
    "# We use linespace to create a range of values starting from -8 to 8 with incremants (= stop - start / num - 1)\n",
    "rand_x= tf.linspace(start=-8., stop=8., num=150)\n",
    "\n",
    "# Gaussian distribution with a standard deviation of 1 and mean 0\n",
    "sigma = float(1.)\n",
    "mu = float(0.)\n",
    "gaussian_pdf = tfd.Normal(loc=mu, scale=sigma).prob(rand_x)\n",
    "\n",
    "# convert tensors into numpy ndarrays for plotting\n",
    "[rand_x_, gaussian_pdf_] = evaluate([rand_x, gaussian_pdf])\n",
    "\n",
    "# Plot of the Gaussian distribution\n",
    "plt.plot(rand_x_, gaussian_pdf_, color=color_b)\n",
    "plt.fill_between(rand_x_, gaussian_pdf_, color=color_b)\n",
    "plt.grid()"
   ]
  },
  {
   "cell_type": "markdown",
   "metadata": {
    "colab_type": "text",
    "id": "AykQmZUmJa-C"
   },
   "source": [
    "Normal distributions are a sensible choice for many applications. In the absence of prior knowledge about what form a distribution over the real numbers should take, the normal distribution is a good default choice for two major reasons.\n",
    "\n",
    "1. Many distributions we wish to model are truly close to being normal distributions. The __central limit theorem__ shows that the sum of many independent random variables is approximately normally distributed.\n",
    "2. Out of all possible probability distributions with the same variance,\n",
    "the normal distribution encodes the maximum amount of uncertainty over the real numbers. We can thus think of the normal distribution as being the one that inserts the least amount of prior knowledge into a model.\n",
    "\n",
    "The normal distribution generalizes to $\\mathbb{R}^n$, in which case it is known as the __multivariate normal distribution__. It may be parameterized with a positive definite symmetric matrix $\\Sigma$:\n",
    "\n",
    "$$\\color{orange}{\\mathcal{N}(x; \\mu, \\Sigma) = \\sqrt{\\frac{1}{(2 \\pi)^n det(\\Sigma)}} exp \\Biggr(- \\frac{1}{2} (x - \\mu)^\\top \\Sigma^{(-1)} (x - \\mu) \\Biggr) \\tag{16}}$$\n",
    "\n",
    "The parameter $\\mu$ still gives the mean of the distribution, though now it is vector valued. The parameter $\\Sigma$ gives the covariance matrix of the distribution.\n"
   ]
  },
  {
   "cell_type": "code",
   "execution_count": 0,
   "metadata": {
    "colab": {
     "base_uri": "https://localhost:8080/",
     "height": 441
    },
    "colab_type": "code",
    "id": "g60hrvJJJal7",
    "outputId": "f4c8e1fa-163f-487b-8c00-27b90c3ea17c"
   },
   "outputs": [
    {
     "data": {
      "image/png": "[encoded data removed]",
      "text/plain": [
       "<Figure size 432x432 with 3 Axes>"
      ]
     },
     "metadata": {
      "tags": []
     },
     "output_type": "display_data"
    }
   ],
   "source": [
    "# We create a multivariate normal distribution with two distributions with mean 0. and std.deviation of 2.\n",
    "mvn = tfd.MultivariateNormalDiag(loc=[0., 0.], scale_diag = [2., 2.])\n",
    "\n",
    "# we take 1000 samples from the distribution\n",
    "samples = mvn.sample(1000)\n",
    "\n",
    "# Plot of multi variate distribution\n",
    "g = sns.jointplot(samples[:, 0], samples[:, 1], kind='scatter', color=color_b)\n",
    "plt.show()"
   ]
  },
  {
   "cell_type": "markdown",
   "metadata": {
    "colab_type": "text",
    "id": "vZDoc1ALpbG8"
   },
   "source": [
    "## 3.9.4 Exponential and Laplace Distributions"
   ]
  },
  {
   "cell_type": "markdown",
   "metadata": {
    "colab_type": "text",
    "id": "-RA3QIJp9Xd0"
   },
   "source": [
    "In the context of deep learning, we often want to have a probability distribution with a sharp point at $x = 0$. To accomplish this, we can use the __exponential distribution__: \n",
    "\n",
    "$$\\color{orange}{p(x; \\lambda) = \\lambda \\mathbf{1}_{x \\geq 0} exp(- \\lambda x) \\tag{17}}$$\n",
    "\n",
    "The exponential distribution uses the indicator function $\\mathbf{1}_{x \\geq 0}$ to assign probability zero to all negative values of $x$."
   ]
  },
  {
   "cell_type": "code",
   "execution_count": 0,
   "metadata": {
    "colab": {
     "base_uri": "https://localhost:8080/",
     "height": 282
    },
    "colab_type": "code",
    "id": "Lr55rfIOJZ3d",
    "outputId": "4d9d0776-1d9f-45ee-f8e4-b307c8fc03ac"
   },
   "outputs": [
    {
     "data": {
      "image/png": "[encoded data removed]",
      "text/plain": [
       "<Figure size 900x288 with 1 Axes>"
      ]
     },
     "metadata": {
      "tags": []
     },
     "output_type": "display_data"
    }
   ],
   "source": [
    "# We use linespace to create a range of values starting from 0 to 4 with incremants (= stop - start / num - 1)\n",
    "a = tf.linspace(start=0., stop=4., num=41)\n",
    "\n",
    "# the tf.newaxis expression is used to increase the dimension of the existing array by one more dimension\n",
    "a = a[..., tf.newaxis]\n",
    "lambdas = tf.constant([1.])\n",
    "\n",
    "# We create a Exponential distribution and calculate the PDF for a\n",
    "expo_pdf = tfd.Exponential(rate=1.).prob(a)\n",
    "\n",
    "# convert tensors into numpy ndarrays for plotting\n",
    "[a_, expo_pdf_] = evaluate([a,expo_pdf])\n",
    "\n",
    "# Plot of Exponential distribution\n",
    "plt.figure(figsize=(12.5, 4))\n",
    "plt.plot(a_.T[0], expo_pdf_.T[[0]][0], color=color_sb)\n",
    "plt.fill_between(a_.T[0], expo_pdf_.T[[0]][0],alpha=.33, color=color_b)\n",
    "plt.title(r\"Probability density function of Exponential distribution with $\\lambda$ = 1\")\n",
    "plt.grid()"
   ]
  },
  {
   "cell_type": "markdown",
   "metadata": {
    "colab_type": "text",
    "id": "OoJrmSD-8mTO"
   },
   "source": [
    "A closely related probability distribution that allows us to place a sharp peak of probability mass at an arbitrary point $\\mu$ is the __Laplace distribution__:\n",
    "\n",
    "$$\\color{orange}{\\text{Laplace} (x; \\mu, \\gamma) = \\frac{1}{2 \\gamma} exp \\Big( - \\frac{|x - \\mu|}{\\gamma} \\Big) \\tag{18}}$$"
   ]
  },
  {
   "cell_type": "code",
   "execution_count": 0,
   "metadata": {
    "colab": {
     "base_uri": "https://localhost:8080/",
     "height": 281
    },
    "colab_type": "code",
    "id": "OXRFTJDG8mwY",
    "outputId": "9405e009-24ae-4a72-9cd7-efbf57878e24"
   },
   "outputs": [
    {
     "data": {
      "image/png": "[encoded data removed]",
      "text/plain": [
       "<Figure size 900x288 with 1 Axes>"
      ]
     },
     "metadata": {
      "tags": []
     },
     "output_type": "display_data"
    }
   ],
   "source": [
    "# We use linespace to create a range of values starting from 0 to 4 with incremants (= stop - start / num - 1)\n",
    "a = tf.linspace(start=0., stop=4., num=41)\n",
    "\n",
    "# the tf.newaxis expression is used to increase the dimension of the existing array by one more dimension\n",
    "a = a[..., tf.newaxis]\n",
    "lambdas = tf.constant([1.])\n",
    "\n",
    "# We create a Laplace distribution and calculate the PDF for a\n",
    "laplace_pdf = tfd.Laplace(loc=1, scale=1).prob(a)\n",
    "\n",
    "# convert tensors into numpy ndarrays for plotting\n",
    "[a_, laplace_pdf_] = evaluate([a, laplace_pdf])\n",
    "\n",
    "# Plot of laplace distribution\n",
    "plt.figure(figsize=(12.5, 4))\n",
    "plt.plot(a_.T[0], laplace_pdf_.T[[0]][0], color=color_sb)\n",
    "plt.fill_between(a_.T[0], laplace_pdf_.T[[0]][0],alpha=.33, color=color_b)\n",
    "plt.title(r\"Probability density function of Laplace distribution\")\n",
    "plt.grid()"
   ]
  },
  {
   "cell_type": "markdown",
   "metadata": {
    "colab_type": "text",
    "id": "L8c_F2WNpe7J"
   },
   "source": [
    "## 3.9.5 The Dirac Distribution and Empirical Distribution"
   ]
  },
  {
   "cell_type": "markdown",
   "metadata": {
    "colab_type": "text",
    "id": "yHZgq8mt9b3v"
   },
   "source": [
    "In some cases, we wish to specify that all the mass in a probability distribution clusters around a single point. This can be accomplished by defining a PDF using the Dirac delta function, $\\delta (x)$:\n",
    "\n",
    "$$\\color{orange}{p(x) = \\delta(x - \\mu) \\tag{19}}$$\n",
    "\n",
    "The Dirac delta function is defined such that it is zero valued everywhere except 0, yet integrates to 1. We can think of the Dirac delta function as being the limit point of a series of functions that put less and less mass on all points other than zero.\n",
    "\n",
    "By defining $p(x)$ to be $\\delta$ shifted by $-\\mu$ we obtain an infinitely narrow infinitely high peak of probability mass where $x = \\mu$"
   ]
  },
  {
   "cell_type": "code",
   "execution_count": 0,
   "metadata": {
    "colab": {
     "base_uri": "https://localhost:8080/",
     "height": 268
    },
    "colab_type": "code",
    "id": "jgLDxAFxH-Vt",
    "outputId": "c43c46ca-ed4e-4da7-e3ad-9c9dea226ef4"
   },
   "outputs": [
    {
     "data": {
      "image/png": "[encoded data removed]",
      "text/plain": [
       "<Figure size 432x288 with 1 Axes>"
      ]
     },
     "metadata": {
      "tags": []
     },
     "output_type": "display_data"
    }
   ],
   "source": [
    "\"\"\"\n",
    "There is no dirac distribution in tensorflow, you will be able to plot using the fast fourier transform in \n",
    "the tf.signal but that would take us outside the scope of the book so we use the normal distribution \n",
    "to plot a dirac distribution. Play around with the delta and mu values to see how the distribution moves.\n",
    "\"\"\"\n",
    "\n",
    "# We use linespace to create a range of values starting from -8 to 8 with incremants (= stop - start / num - 1)\n",
    "rand_x= tf.linspace(start=-8., stop=8., num=150)\n",
    "\n",
    "# Gaussian distribution with a standard deviation of 1/6 and mean 2\n",
    "delta = float(1./6.)\n",
    "mu = float(2.)\n",
    "dirac_pdf = tfd.Normal(loc=mu, scale=delta).prob(rand_x)\n",
    "\n",
    "# convert tensors into numpy ndarrays for plotting\n",
    "[rand_x_, dirac_pdf_] = evaluate([rand_x, dirac_pdf])\n",
    "\n",
    "# Plot of the dirac distribution\n",
    "plt.plot(rand_x_, dirac_pdf_, color=color_sb)\n",
    "plt.fill_between(rand_x_, dirac_pdf_, color=color_b)\n",
    "plt.grid()"
   ]
  },
  {
   "cell_type": "markdown",
   "metadata": {
    "colab_type": "text",
    "id": "tQKduNCQ-jlm"
   },
   "source": [
    "A common use of the Dirac delta distribution is as a component of an __empirical distribution__:\n",
    "\n",
    "$$\\color{orange}{\\hat{p}(x) = \\frac{1}{m} \\displaystyle\\sum_{i = 1}^m \\delta  (x - x^{(i)}) \\tag{20}}$$\n",
    "\n",
    "which puts probability mass $\\frac{1}{m}$ on each of the $m$ points $x^{(1)}, \\cdots, x^{(m)}$, forming a given data set or collection of sample. \n",
    "\n",
    "The Dirac delta distribution is only necessary to define the empirical distribution over continuous variables. \n",
    "\n",
    "For discrete variables, the situation is simpler: an empirical distribution can be conceptualized\n",
    "as a multinoulli distribution, with a probability associated with each possible input value that is simply equal to the __empirical frequency__ of that value in the training set."
   ]
  },
  {
   "cell_type": "markdown",
   "metadata": {
    "colab_type": "text",
    "id": "TXbKXh0D_6Fp"
   },
   "source": [
    "We can view the empirical distribution formed from a dataset of training examples as specifying the distribution that we sample from when we train a model on this dataset. Another important perspective on the empirical distribution is that it is the probability density that maximizes the likelihood of the training data."
   ]
  },
  {
   "cell_type": "markdown",
   "metadata": {
    "colab_type": "text",
    "id": "ZksxiPInpiGK"
   },
   "source": [
    "## 3.9.6 Mixtures of Distributions"
   ]
  },
  {
   "cell_type": "markdown",
   "metadata": {
    "colab_type": "text",
    "id": "QHvbCH8a9h7T"
   },
   "source": [
    "One common way of combining simpler distributions to define probability distribution is to construct a __mixture distribution__. A mixture distribution is made up of several component distributions. On each trial, the choice of which component distribution should generate the sample is determined by sampling a component identity from a multinoulli distribution:\n",
    "\n",
    "$$\\color{orange}{P(\\mathrm{x}) = \\displaystyle\\sum_i P(c = i) \\ P(\\mathrm{x} | c = i) \\tag{21}}$$\n",
    "\n",
    "where $P(c)$ is the multinoulli distribution over component identities."
   ]
  },
  {
   "cell_type": "code",
   "execution_count": 0,
   "metadata": {
    "colab": {
     "base_uri": "https://localhost:8080/",
     "height": 441
    },
    "colab_type": "code",
    "id": "LPVgbPYy9nyM",
    "outputId": "efeceade-56cb-4de6-ac96-f2a580b356ab"
   },
   "outputs": [
    {
     "data": {
      "image/png": "[encoded data removed]",
      "text/plain": [
       "<Figure size 432x432 with 3 Axes>"
      ]
     },
     "metadata": {
      "tags": []
     },
     "output_type": "display_data"
    }
   ],
   "source": [
    "\"\"\"\n",
    "We will be creating two variable with two components to plot the mixture of distributions.\n",
    "\n",
    "The tfd.MixtureSameFamily distribution implements a batch of mixture distribution where all components are from \n",
    "different parameterizations of the same distribution type. In our example, we will be using tfd.Categorical to\n",
    "manage the probability of selecting components. Followed by tfd.MultivariateNormalDiag as components. \n",
    "The MultivariateNormalDiag constructs Multivariate Normal distribution on R^k\n",
    "\"\"\"\n",
    "\n",
    "num_vars = 2        # Number of variables (`n` in formula).\n",
    "var_dim = 1         # Dimensionality of each variable `x[i]`.\n",
    "num_components = 2  # Number of components for each mixture (`K` in formula).\n",
    "sigma = 5e-2        # Fixed standard deviation of each component.\n",
    "\n",
    "# Set seed.\n",
    "tf.random.set_seed(77)\n",
    "\n",
    "# categorical distribution\n",
    "categorical = tfd.Categorical(logits=tf.zeros([num_vars, num_components]))\n",
    "\n",
    "# Choose some random (component) modes.\n",
    "component_mean = tfd.Uniform().sample([num_vars, num_components, var_dim])\n",
    "\n",
    "# component distribution for the mixture family\n",
    "components = tfd.MultivariateNormalDiag(loc=component_mean, scale_diag=[sigma])\n",
    "\n",
    "# create the mixture same family distribution\n",
    "distribution_family = tfd.MixtureSameFamily(mixture_distribution=categorical, components_distribution=components)\n",
    "\n",
    "# Combine the distributions\n",
    "mixture_distribution = tfd.Independent(distribution_family, reinterpreted_batch_ndims=1)\n",
    "\n",
    "# Extract a sample from the distribution\n",
    "samples = mixture_distribution.sample(1000).numpy()\n",
    "\n",
    "# Plot the distributions\n",
    "g = sns.jointplot(x=samples[:, 0, 0], y=samples[:, 1, 0], kind=\"scatter\", color=color_b, marginal_kws=dict(bins=50))\n",
    "plt.show()"
   ]
  },
  {
   "cell_type": "markdown",
   "metadata": {
    "colab_type": "text",
    "id": "tB3jlKd9CCGv"
   },
   "source": [
    "The mixture model allows us to briefly glimpse a concept that will be of paramount importance later—the __latent variable__. A latent variable is a random variable that we cannot observe directly. Latent variables may be related to x through the joint distribution."
   ]
  },
  {
   "cell_type": "markdown",
   "metadata": {
    "colab_type": "text",
    "id": "emx4iT3XCbLU"
   },
   "source": [
    "A very powerful and common type of mixture model is the __Gaussian mixture model__, in which the components $p(\\mathrm{x} | c =i)$ are Gaussians. Each component has a separate parametrized mean $\\mu^{(i)}$ and covariance $\\Sigma^{(i)}$. As with a single Gaussian distribution, the mixture of Gaussians might constrain the covariance matrix for each component to be diagonal or isotropic. A Gaussian mixture model is a __universal approximator__ of densities, in the sense that any smooth density can be approximated with any specific nonzero amount of error by a Gaussian mixture model with enough components."
   ]
  },
  {
   "cell_type": "markdown",
   "metadata": {
    "colab_type": "text",
    "id": "RSzFLORKzdgo"
   },
   "source": [
    "Some of the other continuous distribution functions include:\n",
    "- Erlang Distribution: In a Poisson process of rate $\\lambda$ the waiting times between k events have an Erlang distribution.\n",
    "- Gamma Distribution: In a Poisson process with rate $\\lambda$  the gamma distribution gives the time to the $k^{th}$ event.\n",
    "- Beta Distribution: represents a family of probabilities and is a versatile way to represent outcomes for percentages or proportions.\n",
    "- Dirichlet Distribution: is a multivariate generalization of the Beta distribution. Dirichlet distributions are commonly used as prior distributions in Bayesian statistics."
   ]
  },
  {
   "cell_type": "markdown",
   "metadata": {
    "colab_type": "text",
    "id": "M_sUBzQN5YkF"
   },
   "source": [
    "I recommend you go back to some of the examples before section 9 to see how we are using these distributions to understand how these are applied."
   ]
  },
  {
   "cell_type": "markdown",
   "metadata": {
    "colab_type": "text",
    "id": "4K_S3XGnpnMF"
   },
   "source": [
    "# 03.10 - Useful Properties of Common Functions"
   ]
  },
  {
   "cell_type": "markdown",
   "metadata": {
    "colab_type": "text",
    "id": "sXUBM6D8Dceg"
   },
   "source": [
    "Logistic Sigmoid:\n",
    "\n",
    "$$\\color{orange}{\\sigma(x) = \\frac{1}{1 + exp(-x)} \\tag{22}}$$\n",
    "\n",
    "The logistic sigmoid is commonly used to produce the $\\phi$ parameter of a Bernoulli distribution because its range is (0, 1), which lies within the valid range of values for the $\\phi$ parameter. The sigmoid function saturates when its argument is very positive or very negative, meaning that the function becomes very flat and insensitive to small changes in its input.\n"
   ]
  },
  {
   "cell_type": "code",
   "execution_count": 0,
   "metadata": {
    "colab": {
     "base_uri": "https://localhost:8080/",
     "height": 322
    },
    "colab_type": "code",
    "id": "JzfiAjA4YbIO",
    "outputId": "79f084f8-18da-4154-b2fd-d1ade9b9721d"
   },
   "outputs": [
    {
     "data": {
      "image/png": "[encoded data removed]",
      "text/plain": [
       "<Figure size 864x360 with 1 Axes>"
      ]
     },
     "metadata": {
      "tags": []
     },
     "output_type": "display_data"
    }
   ],
   "source": [
    "def logistic(x, phi):\n",
    "    \"\"\"Calculates the logistic function.\n",
    "    Arguments:\n",
    "        x (int)      : is the x values.\n",
    "        phi (int)    : parameter.\n",
    "    Returns:\n",
    "        Values in range(0, 1)\n",
    "    \"\"\"\n",
    "    return 1.0 / (1.0 + tf.exp(phi * x))\n",
    "\n",
    "# create a range of values starting from -4 to 4 with incremants (= stop - start / num - 1)\n",
    "x_vals = tf.linspace(start=-4., stop=4., num=100)\n",
    "\n",
    "# Create three logistic functions to see the effect of the parameter phi\n",
    "log_phi_1 = logistic(x_vals, 1.)\n",
    "log_phi_3 = logistic(x_vals, 3.)\n",
    "log_phi_5 = logistic(x_vals, -5.)\n",
    "\n",
    "# convert tensors into numpy ndarrays for plotting\n",
    "[x_vals_, log_phi_1_, log_phi_3_, log_phi_5_] = evaluate([x_vals, log_phi_1, log_phi_3, log_phi_5])\n",
    "\n",
    "# Plot of the logistic function\n",
    "plt.figure(figsize = (12, 5))\n",
    "plt.plot(x_vals_, log_phi_1_, label=r\"$\\phi = 1$\")\n",
    "plt.plot(x_vals_, log_phi_3_, label=r\"$\\phi = 3$\")\n",
    "plt.plot(x_vals_, log_phi_5_, label=r\"$\\phi = -5$\")\n",
    "plt.legend()\n",
    "plt.grid()"
   ]
  },
  {
   "cell_type": "markdown",
   "metadata": {
    "colab_type": "text",
    "id": "AHt-pFa6dw48"
   },
   "source": [
    "Softplus Function:\n",
    "\n",
    "$$\\color{orange}{\\zeta (x) = log \\ (1 + exp(x)) \\tag{23}}$$\n",
    "\n",
    "The softplus function can be useful for producing the $\\beta$ or $\\sigma$ parameter of a normal distribution because its range is (0, $\\infty$). It also arises commonly when manipulating expressions involving sigmoids. The name of the softplus function comes from the fact that it is a smoothed, or “softened,” version of $x^+ = max(0, x)$"
   ]
  },
  {
   "cell_type": "code",
   "execution_count": 0,
   "metadata": {
    "colab": {
     "base_uri": "https://localhost:8080/",
     "height": 322
    },
    "colab_type": "code",
    "id": "p1RnE3rjhQFq",
    "outputId": "4835382b-0dee-44ba-fcb7-09a0dd3ef3b8"
   },
   "outputs": [
    {
     "data": {
      "image/png": "[encoded data removed]",
      "text/plain": [
       "<Figure size 864x360 with 1 Axes>"
      ]
     },
     "metadata": {
      "tags": []
     },
     "output_type": "display_data"
    }
   ],
   "source": [
    "def softplus(x, beta):\n",
    "    \"\"\"Calculates the softplus function.\n",
    "    Arguments:\n",
    "        x (int)        : is the number you want to calculate the probability for.\n",
    "        beta (int)     : paramter.\n",
    "    Returns:\n",
    "        Values in range(0, infinity).\n",
    "    \"\"\"\n",
    "    return tf.math.log(1 + tf.math.exp(beta * x))\n",
    "\n",
    "# create a range of values starting from -4 to 4 with incremants (= stop - start / num - 1)\n",
    "x_vals = tf.linspace(start=-4., stop=4., num=100)\n",
    "\n",
    "# Create three softplus functions to see the effect of the parameter beta\n",
    "log_beta_1 = softplus(x_vals, 1.)\n",
    "log_beta_3 = softplus(x_vals, 3.)\n",
    "log_beta_5 = softplus(x_vals, -5.)\n",
    "\n",
    "# convert tensors into numpy ndarrays for plotting\n",
    "[x_vals_, log_beta_1_, log_beta_3_, log_beta_5_] = evaluate([x_vals, log_beta_1, log_beta_3, log_beta_5])\n",
    "\n",
    "# Plot of the softplu function\n",
    "plt.figure(figsize = (12, 5))\n",
    "plt.plot(x_vals_, log_beta_1_, label=r\"$\\beta = 1$\")\n",
    "plt.plot(x_vals_, log_beta_3_, label=r\"$\\beta = 3$\")\n",
    "plt.plot(x_vals_, log_beta_5_, label=r\"$\\beta = -5$\")\n",
    "plt.legend()\n",
    "plt.grid()"
   ]
  },
  {
   "cell_type": "markdown",
   "metadata": {
    "colab_type": "text",
    "id": "oS-dTtkGfNIl"
   },
   "source": [
    "The following are some useful properties if you wish to memorize: \n",
    "\n",
    "![sigmoid and softplus properties](https://raw.githubusercontent.com/adhiraiyan/DeepLearningWithTF2.0/master/notebooks/figures/fig0310a.PNG)\n",
    "\n",
    "The function $\\sigma^{-1}x$ is called the __logit__ in statistics, but this term is rarely used in machine learning."
   ]
  },
  {
   "cell_type": "markdown",
   "metadata": {
    "colab_type": "text",
    "id": "qEbATFYppr_R"
   },
   "source": [
    "# 03.11 - Bayes' Rule"
   ]
  },
  {
   "cell_type": "markdown",
   "metadata": {
    "colab_type": "text",
    "id": "XGYEJ_saDdid"
   },
   "source": [
    "__Bayes' rule__ is a useful tool that computes the conditional probability $P( x | y)$ from $P(y | x)$. Here \n",
    "\n",
    "- $P( x | y)$ is called the _posterior_; this is what we are trying to estimate, \n",
    "- $P(y | x)$ is called the _likelihood_; this is the probability of observing the new evidence, given our initial hypothesis, \n",
    "- $P(x)$ is called the _prior_; this is the probability of our hypothesis without any additional prior information,\n",
    "- $P(y)$ is called the _marginal likelihood_; this is the total probability of observing the evidence.\n",
    "\n",
    "The Bayes' rule can be summed up as:\n",
    "\n",
    "$$\\color{orange}{P(x | y) = \\frac{P(x) \\ P(y | x)}{P(y)} \\tag{24}}$$\n",
    "\n",
    "Even though $P(y)$ appears in the formula, it is usually feasible to compute $P(y) = \\sum_x P(y | x) P(x)$, so we do not need to begin with knowledge of $P(y)$."
   ]
  },
  {
   "cell_type": "code",
   "execution_count": 0,
   "metadata": {
    "colab": {
     "base_uri": "https://localhost:8080/",
     "height": 34
    },
    "colab_type": "code",
    "id": "7QtKfPsn3Sas",
    "outputId": "ec4e4b32-68b0-479a-b7a6-c4cde7a2c3c4"
   },
   "outputs": [
    {
     "name": "stdout",
     "output_type": "stream",
     "text": [
      "P(Jar 1 | Vanilla) = 0.6\n"
     ]
    }
   ],
   "source": [
    "\"\"\"\n",
    "There are 2 cookie jars:\n",
    "\n",
    "Jar 1 has 30 vanilla cookies and 10 chocolate cookies\n",
    "Jar 2 has 20 vanilla cookies and 20 chocolate cookies\n",
    "You randomly pick one cookie from one randomly chosen jar. It is vanilla. What is the probability it was from Jar 1?\n",
    "\n",
    "So we are looking for P(Jar 1 | Vanilla).\n",
    "\"\"\"\n",
    "\n",
    "# probability of picking between Jar 1 and 2: The Prior probability\n",
    "p_jar_1 = 1/2\n",
    "\n",
    "# Vanilla / total cookies: The likelihood\n",
    "p_vanilla_given_jar_1 = 30/(30+10)\n",
    "\n",
    "# total vanilla cookies / Total cookies: The marginal likelihood\n",
    "p_vanilla = (30+20) / (30+10 + 20+20)\n",
    "\n",
    "# Bayes' rule\n",
    "p_jar_1_given_vanilla = (p_jar_1 * p_vanilla_given_jar_1) / p_vanilla\n",
    "\n",
    "print('P(Jar 1 | Vanilla) = {}'.format(p_jar_1_given_vanilla))"
   ]
  },
  {
   "cell_type": "markdown",
   "metadata": {
    "colab_type": "text",
    "id": "RYwFhM8yDery"
   },
   "source": [
    "# 03.12 - Technical Details of Continuous Variables"
   ]
  },
  {
   "cell_type": "markdown",
   "metadata": {
    "colab_type": "text",
    "id": "vhoJuvOx0UlU"
   },
   "source": [
    "In this section, we start with __Measure Theory__ and I would be giving you a no math introduction to it. The reason you aren't seeing any implementations is because most of the time these implementations are built directly into the tools you are using unless ofcourse if you are a researcher studying new types of data. So I won't be giving you any implementations but nevertheless this is an important area and understanding it may help you reformulate certain distribution problems.\n",
    "\n",
    "Measure theory studies ways of generalizing the intuitive notions of length, area and volume. For example, see the image below:\n",
    "\n",
    "![Measure Theory Example](https://raw.githubusercontent.com/adhiraiyan/DeepLearningWithTF2.0/master/notebooks/figures/fig0312a.jpg)\n",
    "\n",
    "It's pretty challenging to see how we can measure the area of such a shape and that's in 2D and most of the time we are playing with higher dimensional data. Btw what do you see in the image, I see Darth Vader from star wars and I can't unsee it now 😂. Anyways, let's see how measure theory can help in such situations. \n",
    "\n",
    "For example, let's say you want to measure how long it would take for you to read the [Deep Learning with Tensorflow 2.0](https://www.adhiraiyan.org/DeepLearningWithTensorflow.html) book. What would be a good measure? If you go by using the number of pages, would that be a good metric? Because pages of a book would differ if it was printed in hardcover, paperback or in our case an ebook, so if you take this article, the read time you see on the top of the page is measured by the number of words, that is a good metric right, no matter hardcover, paperback or ebook, it would have the same number of words, so now, we do have version invariance between the different published formats, and if I want to add an extra chapter to this book, then I would just calculate the number of words in that chapter and add this to the book, this is the key contribution of measure theory.\n",
    "\n",
    "Measure theory also provides a rigorous way of describing a set of points as negligibly small. Such a set is said to have __measure zero__. Let me explain this by continuing my book example, in this chapter and the rest, you see some pictures, and we can't measure the read time of pictures using words, so we set the pictures to have a measure zero and our read time based on words will still be a good approximation for the length of the book.\n",
    "\n",
    "Another useful term from measure theory is __almost everywhere__. A property that holds almost everywhere holds throughout all space except for on a set of measure zero. Now this is where we generalize our measure, even though the example we saw had little probability, measure theory helps make certain probability statements precise."
   ]
  },
  {
   "cell_type": "markdown",
   "metadata": {
    "colab_type": "text",
    "id": "qZ-dkJNJwQrW"
   },
   "source": [
    "Another technical detail of continuous variables relates to handling continuous random variables that are deterministic functions of one another. Suppose we have two random variables, __x__ and __y__, such that $y = g(x)$, where *g* is an invertible, continuous, differentiable transformation. One might expect that $p_y(y) = p_x(g^{-1}(y))$. This is not actually the case.\n",
    "\n",
    "The problem with this approach is that it fails to account for the distortion of space introduced by the function *g*. Recall that the probability of $x$ lying in an infinitesimally small region with volume $\\delta x$ is given by $p(x) \\delta x$. Since *g* can expand or contract space, the infinitesimal volume surrounding $x$ in $x$ space may have different volume in $y$ space. We can correct this problem by defining:\n",
    "\n",
    "$$\\color{orange}{p_x(x) = p_y(g(x)) \\Bigg|\\frac{\\partial g(x)}{\\partial x} \\Bigg| \\tag{25}}$$\n",
    "\n",
    "In higher dimensions, the derivative generalizes to the determinant of the __Jacobian matrix__- the matrix with $J_{i, j} = \\frac{\\partial{x}_i}{\\partial{y}_j}$. Thus for real valued vectors $x$ and $y$:\n",
    "\n",
    "$$\\color{orange}{p_x(x) = p_y(g(x)) \\Bigg| det \\Big( \\frac{\\partial g(x)}{\\partial x} \\Big) \\Bigg| \\tag{26}}$$\n"
   ]
  },
  {
   "cell_type": "markdown",
   "metadata": {
    "colab_type": "text",
    "id": "Keui6K8sDhBX"
   },
   "source": [
    "# 03.13 - Information Theory"
   ]
  },
  {
   "cell_type": "markdown",
   "metadata": {
    "colab_type": "text",
    "id": "parFZMW3fdbU"
   },
   "source": [
    "Information theory is a branch of applied mathematics that revolves around quantifying how much information is present in a signal. In the context of machine learning, we can also apply information theory to continuous variables where some of these message length interpretations do not apply. \n",
    "\n",
    "The basic intuition behind the information theory is that a likely event should have low information content, less likely events should have higher information content and independent events should have additive information.\n",
    "\n",
    "Let me give you a simple example, lets say you have a male friend, and he is head over heels in love with this girl, so he asks this girl out pretty much every week and there's a 99% chance she says no, so you being his best friend, he texts you everytime after he asks the girl out to let you know what happened, he texts, \"Hey guess what she said, NO 😭😭😭\", this is of course wasteful, considering he has a very low chance so it makes more sense for your friend to just send \"😭\" but if she says yes then he can of course send a longer text, so this way, the number of bits used to convey the message (and your corresponding data bill) will be minimized. P.S don't tell your friend he has a low chance, that's how you lose friends 😬.\n",
    "\n",
    "To satisfy these properties, we define the __self-information__ of an event $\\mathrm{x} = x$ to be:\n",
    "\n",
    "$$\\color{orange}{I(x) = -log \\ P(x) \\tag{27}}$$\n",
    "\n",
    "In this book, we always use log to mean the natural logarithm, with base e. Our definition of $I(x)$ is therefore written in units of __nats__. One nat is the amount of information gained by observing an event of probability $\\frac{1}{e}$. Other texts use base-2\n",
    "logarithms and units called __bits__ or __shannons__; information measured in bits is just a rescaling of information measured in nats."
   ]
  },
  {
   "cell_type": "code",
   "execution_count": 0,
   "metadata": {
    "colab": {
     "base_uri": "https://localhost:8080/",
     "height": 304
    },
    "colab_type": "code",
    "id": "iDS7EbymVw0H",
    "outputId": "a575e613-05ce-45f6-f8a6-e48447a0e7bf"
   },
   "outputs": [
    {
     "name": "stdout",
     "output_type": "stream",
     "text": [
      "Entropy of 10 coin tosses in nats: 0.6931471824645996 \n",
      "For tosses: [0 1 1 1 0 1 1 1 0 1]\n"
     ]
    },
    {
     "data": {
      "image/png": "[encoded data removed]",
      "text/plain": [
       "<Figure size 432x288 with 1 Axes>"
      ]
     },
     "metadata": {
      "tags": []
     },
     "output_type": "display_data"
    }
   ],
   "source": [
    "\"\"\"\n",
    "No matter what combination of toss you get the Entropy remains the same but if you change the probability of the\n",
    "trial, the entropy changes, play around with the probs and see how the entropy is changing and see if the increase\n",
    "or decrease makes sense.\n",
    "\"\"\"\n",
    "\n",
    "coin_entropy = [0]                                                                     # creating the coin entropy list\n",
    "\n",
    "for i in range(10, 11):\n",
    "    coin = tfd.Bernoulli(probs=0.5)                                                    # Bernoulli distribution \n",
    "    coin_sample = coin.sample(i)                                                       # we take 1 sample\n",
    "    coin_entropy.append(coin.entropy())                                                # append the coin entropy\n",
    "    sns.distplot(coin_entropy, color=color_o, hist=False, kde_kws={\"shade\": True})     # Plot of the entropy\n",
    "\n",
    "print(\"Entropy of 10 coin tosses in nats: {} \\nFor tosses: {}\".format(coin_entropy[1], coin_sample))\n",
    "plt.grid()"
   ]
  },
  {
   "cell_type": "markdown",
   "metadata": {
    "colab_type": "text",
    "id": "lR1lx9yJiTie"
   },
   "source": [
    "Self information deals only with a single outcome. We can quantify the amount of uncertainty in an entire probability distribution using the __Shannon entropy__:\n",
    "\n",
    "$$\\color{orange}{H(\\mathrm{x}) = \\mathbb{E}_{x \\sim P} [I(x)] = -\\mathbb{E}_{x \\sim P}[log \\ P(x)] \\tag{28}}$$\n",
    "\n",
    "also denoted as $H(P)$.\n",
    "\n",
    "Shannon entropy of a distribution is the expected amount of information in an event drawn from that distribution. It gives a lower bound on the number of bits needed on average to encode symbols drawn from a distribution P. Distributions that are nearly deterministic (where the outcome is nearly certain) have low entropy; distributions that are closer to uniform have high entropy. When $\\mathrm{x}$ is continuous, the Shannon entropy is known as the __differential entropy__."
   ]
  },
  {
   "cell_type": "code",
   "execution_count": 0,
   "metadata": {
    "colab": {
     "base_uri": "https://localhost:8080/",
     "height": 34
    },
    "colab_type": "code",
    "id": "ekd8kWV5H470",
    "outputId": "252bb161-8cf6-4d69-f7d1-3db065e3ccd5"
   },
   "outputs": [
    {
     "name": "stdout",
     "output_type": "stream",
     "text": [
      "TFPs entropy: 0.6931471824645996 matches with the Shannon Entropy Function we wrote: 0.6931471824645996\n"
     ]
    }
   ],
   "source": [
    "\"\"\"\n",
    "Note here since we are using the Bernoulli distribution to find the expectation we simply use mean, \n",
    "if you change the distribution, you need to find the Expectation accordingly\n",
    "\"\"\"\n",
    "\n",
    "def shannon_entropy_func(p):\n",
    "    \"\"\"Calculates the shannon entropy.\n",
    "    Arguments:\n",
    "        p (int)        : probability of event.\n",
    "    Returns:\n",
    "        shannon entropy.\n",
    "    \"\"\"\n",
    "    \n",
    "    return -tf.math.log(p.mean())\n",
    "\n",
    "# Create a Bernoulli distribution\n",
    "bernoulli_distribution = tfd.Bernoulli(probs=.5)\n",
    "\n",
    "# Use TFPs entropy method to calculate the entropy of the distribution\n",
    "shannon_entropy = bernoulli_distribution.entropy()\n",
    "\n",
    "print(\"TFPs entropy: {} matches with the Shannon Entropy Function we wrote: {}\".format(shannon_entropy, \n",
    "                                                                                       shannon_entropy_func(bernoulli_distribution)))"
   ]
  },
  {
   "cell_type": "markdown",
   "metadata": {
    "colab_type": "text",
    "id": "ExCROUQGMjdY"
   },
   "source": [
    "Entropy isn't remarkable for its interpretation, but for its  properties. For example, entropy doesn't care about the actual *x* values like variance, it only considers their probability. So if we increase the number of values *x* may take then the entropy will increase and the probabilities will be less concentrated."
   ]
  },
  {
   "cell_type": "code",
   "execution_count": 0,
   "metadata": {
    "colab": {
     "base_uri": "https://localhost:8080/",
     "height": 268
    },
    "colab_type": "code",
    "id": "w-jDDvSJkWiT",
    "outputId": "27802e4c-034f-4bb2-b03f-4b7e74de2e7d"
   },
   "outputs": [
    {
     "data": {
      "image/png": "[encoded data removed]",
      "text/plain": [
       "<Figure size 432x288 with 1 Axes>"
      ]
     },
     "metadata": {
      "tags": []
     },
     "output_type": "display_data"
    }
   ],
   "source": [
    "# You can see below by changing the values of x we increase the entropy\n",
    "\n",
    "shannon_list = []\n",
    "\n",
    "for i in range(1, 20):\n",
    "    uniform_distribution = tfd.Uniform(low=0.0, high=i)    # We create a uniform distribution\n",
    "    shannon_entropy = uniform_distribution.entropy()       # Calculate the entropy of the uniform distribution\n",
    "    shannon_list.append(shannon_entropy)                   # Append the results to the list\n",
    "\n",
    "# Plot of Shannon Entropy\n",
    "plt.hist(shannon_list, color=color_b)\n",
    "plt.grid()"
   ]
  },
  {
   "cell_type": "markdown",
   "metadata": {
    "colab_type": "text",
    "id": "7VkFeSeHijwr"
   },
   "source": [
    "If we have two separate probability distributions P(x) and Q(x) over the same random variable x, we can measure how different these two distributions are using the __Kullback-Leibler (KL) divergence__:\n",
    "\n",
    "$$\\color{orange}{D_{KL} (P \\| Q) = \\mathbb{E}_{x \\sim P} \\Big[ log \\ \\frac{P(x)}{Q(x)} \\Big] = \\mathbb{E}_{x \\sim P} [log \\ P(x) - log \\ Q(x)] \\tag{29}}$$\n",
    "\n",
    "In the case of discrete variables, it is the extra amount of information needed to send a message containing symbols drawn from probability distribution P, when we use a code that was designed to minimize\n",
    "the length of messages drawn from probability distribution Q.\n",
    "\n",
    "\n"
   ]
  },
  {
   "cell_type": "code",
   "execution_count": 0,
   "metadata": {
    "colab": {
     "base_uri": "https://localhost:8080/",
     "height": 34
    },
    "colab_type": "code",
    "id": "jdShrOOiEwPP",
    "outputId": "ebc7e7bb-8f64-4a3c-c526-a5d4aac3746e"
   },
   "outputs": [
    {
     "name": "stdout",
     "output_type": "stream",
     "text": [
      "TFPs KL_Divergence: 0.4431471824645996 matches with the KL Function we wrote: 0.4431471824645996\n"
     ]
    }
   ],
   "source": [
    "def kl_func(p, q):\n",
    "    \"\"\"Calculates the KL divergence of two distributions.\n",
    "    Arguments:\n",
    "        p    : Distribution p.\n",
    "        q    : Distribution q.\n",
    "    Returns:\n",
    "        the divergence value.\n",
    "    \"\"\"\n",
    "    \n",
    "    r = p.loc - q.loc\n",
    "    return (tf.math.log(q.scale) - tf.math.log(p.scale) -.5 * (1. - (p.scale**2 + r**2) / q.scale**2))\n",
    "\n",
    "# We create two normal distributions\n",
    "p = tfd.Normal(loc=1., scale=1.)\n",
    "q = tfd.Normal(loc=0., scale=2.)\n",
    "\n",
    "# Using TFPs KL Divergence\n",
    "kl = tfd.kl_divergence(p, q)\n",
    "\n",
    "print(\"TFPs KL_Divergence: {} matches with the KL Function we wrote: {}\".format(kl, kl_func(p, q)))"
   ]
  },
  {
   "cell_type": "markdown",
   "metadata": {
    "colab_type": "text",
    "id": "8C8yND3TijqK"
   },
   "source": [
    "The KL divergence has many useful properties, most notably being nonnegative. The KL divergence is 0 if and only if P and Q are the same distribution in the case of discrete variables, or equal “almost everywhere” in the case of continuous variables."
   ]
  },
  {
   "cell_type": "markdown",
   "metadata": {
    "colab_type": "text",
    "id": "N5srducgmsT-"
   },
   "source": [
    "A quantity that is closely related to the KL divergence is the __cross-entropy__ $H(P, Q) = H(P) + D_{KL} (P \\| Q)$, which is similar to the KL divergence but lacking the term on the left:\n",
    "\n",
    "$$\\color{orange}{H(P, Q) = - \\mathbb{E}_{x \\sim P} \\ log \\ Q(x) \\tag{30}}$$\n",
    "\n",
    "Minimizing the cross-entropy with respect to Q is equivalent to minimizing the KL divergence, because Q does not participate in the omitted term."
   ]
  },
  {
   "cell_type": "code",
   "execution_count": 0,
   "metadata": {
    "colab": {
     "base_uri": "https://localhost:8080/",
     "height": 34
    },
    "colab_type": "code",
    "id": "ycjI4mf1imr1",
    "outputId": "598f4978-25c0-4418-a5aa-10c0bed6ac2f"
   },
   "outputs": [
    {
     "name": "stdout",
     "output_type": "stream",
     "text": [
      "TFPs cross entropy: 3.418938636779785\n"
     ]
    }
   ],
   "source": [
    "\"\"\"\n",
    "The cross_entropy computes the Shannons cross entropy defined as:\n",
    "H[P, Q] = E_p[-log q(X)] = -int_F p(x) log q(x) dr(x)\n",
    "\"\"\"\n",
    "\n",
    "# We create two normal distributions\n",
    "p = tfd.Normal(loc=1., scale=1.)\n",
    "q = tfd.Normal(loc=0., scale=2.)\n",
    "\n",
    "# Calculating the cross entropy\n",
    "cross_entropy = q.cross_entropy(p)\n",
    "\n",
    "print(\"TFPs cross entropy: {}\".format(cross_entropy))"
   ]
  },
  {
   "cell_type": "markdown",
   "metadata": {
    "colab_type": "text",
    "id": "PBUTxAdrDi0K"
   },
   "source": [
    "# 03.14 - Structured Probabilistic Models"
   ]
  },
  {
   "cell_type": "markdown",
   "metadata": {
    "colab_type": "text",
    "id": "he4QH0zloPI7"
   },
   "source": [
    "Machine learning algorithms often involve probability distributions over a very large number of random variables. Often, these probability distributions involve direct interactions between relatively few variables. Using a single function to describe the entire joint probability distribution can be very inefficient (both computationally and statistically). \n",
    "\n",
    "Insted of using a single function to represent a probabiility distribuiton, we can split a probability distribution into many factors that we multiply together. These factorizations can greatly reduce the number of parameters needed to describe the distribution.\n",
    "\n",
    "We can describe these kinds of factorizations using graphs. Here, we use the word “graph” in the sense of graph theory: a set of vertices that may be connected to each other with edges. When we represent the factorization of a probability distribution with a graph, we call it a __structured probabilistic model__, or __graphical model__.\n",
    "\n",
    "![Graphical Theory Intro](https://raw.githubusercontent.com/adhiraiyan/DeepLearningWithTF2.0/master/notebooks/figures/fig0314a.jpeg)\n",
    "\n",
    "If you haven't noticed, I am not that artsy, the image above is from Vaidehi Joshi's Medium post.\n"
   ]
  },
  {
   "cell_type": "markdown",
   "metadata": {
    "colab_type": "text",
    "id": "Rxed9eScoT8G"
   },
   "source": [
    "There are two main kinds of structured probabilistic models: directed and undirected. Both kinds of graphical models use a graph $\\mathcal{G}$ in which each node in the graph corresponds to a random variable, and an edge connecting two random variables means that the probability distribution is able to represent direct interactions between those two random variables. \n",
    "\n",
    "__Directed__ models or __Directed Acyclic Graphs (DAG)__ also known as __Bayesian Network__ use graphs with directed edges, these edges give _casuality_ relationships and they represent factorizations into conditional probability distributions. Specifically, a directed model contains one factor for every random variable $\\mathrm{x}_i$ in the distribution, and that factor consists of the conditional distribution over $\\mathrm{x}_i$ given the parents of $\\mathrm{x}_i$ denoted $Pa_{\\mathcal{G}}(\\mathrm{x}_i)$\n",
    "\n",
    "$$\\color{orange}{p(\\mathrm{x}) = \\prod_i p(\\mathrm{x}_i \\ | \\ Pa_{\\mathcal{G}}(\\mathrm{x}_i)) \\tag{31}}$$\n",
    "\n",
    "![Directed graph example](https://raw.githubusercontent.com/adhiraiyan/DeepLearningWithTF2.0/master/notebooks/figures/fig0314b.PNG)\n",
    "\n",
    "This graph corresponds to probability distributions that can be factored as: \n",
    "\n",
    "$p(a, b, c, d, e) = p(a) p(b | a) p(c | a, b) p(d | b) p(e | c)$\n",
    "\n",
    "An application of directed graph is in finding who is related to who, for example, take Dr. Who, haha, that wasn't on purpose:\n",
    "\n",
    "![Directed graph example dr who](https://raw.githubusercontent.com/adhiraiyan/DeepLearningWithTF2.0/master/notebooks/figures/fig0314d.png)\n",
    "\n",
    "I don't watch the show so, have no clue who these people are but looking at the graph, there are some bad people and how one is related to another is quite clear. You can also think of social networks, like twitter, if you put all your followers and people who you follow, what you get would be a directed graph.\n",
    "\n"
   ]
  },
  {
   "cell_type": "markdown",
   "metadata": {
    "colab_type": "text",
    "id": "pLHCcKKfoU-9"
   },
   "source": [
    "__Undirected__ models or __Undirected Graphical Models (UGM)__ also known as __Markov Random Fields__ use graphs with undirected edges, these edges give _correlations_ between variables and they represent factorization into a set of functionals unlike in the directed case, these functions are usually not probability distributions of any kind. Any set of nodes that are all connected to each other in $\\mathcal{G}$ is called a clique. Each clique $\\mathcal{C}^{(i)}$ in an undirected model is associated with a factor $\\phi^{(i)} (\\mathcal{C^(i)})$. These factors are just functions, not probability distributions. The output of each factor must be non-negative, but there is no constraint that the factor must sum or integrate to 1 like a probability distribution.\n",
    "\n",
    "The probability of a configuration of random variables is proportional to the product of all these factors and since there is no guarantee that this product will sum to 1, we divide by a normalizing constant $Z$, defined to be the sum or integral over all states of the product of the $\\phi$ functions, in order to obtain a normalized probability distribution:\n",
    "\n",
    "$$\\color{orange}{p(x) = \\frac{1}{Z} \\prod_i \\phi^{(i)} (\\mathcal{C}^{(i)}) \\tag{32}}$$\n",
    "\n",
    "![Undirected graph example](https://raw.githubusercontent.com/adhiraiyan/DeepLearningWithTF2.0/master/notebooks/figures/fig0314c.PNG)\n",
    "\n",
    "This graph corresponds to probability distributions that can be factored as:\n",
    "\n",
    "$p(a, b, c, d, e) = \\frac{1}{Z} \\phi^{(1)} (a, b, c) \\phi^{(2)} (b, d) \\phi^{(3)} (c, e)$\n",
    "\n",
    "An application of undirected graph is in social network analysis, like facebook:\n",
    "\n",
    "![Undirected graph example facebook](https://raw.githubusercontent.com/adhiraiyan/DeepLearningWithTF2.0/master/notebooks/figures/fig0314e.png)\n",
    "\n",
    "Some of the other example include, protein interaction networks, modeling the game Go and information retrieval.\n"
   ]
  },
  {
   "cell_type": "markdown",
   "metadata": {
    "colab_type": "text",
    "id": "Cli01EUXFGc8"
   },
   "source": [
    "Keep in mind that being directed or undirected is not a property of a probability distribution, it is a property of a particular description of a probability distribution, but any probability distribution may be described in both ways."
   ]
  },
  {
   "cell_type": "markdown",
   "metadata": {
    "colab_type": "text",
    "id": "1cfvVHissTLP"
   },
   "source": [
    "This is another section we did not go through any practical examples and the reason is we will go through these concepts in much detail in the upcoming chapters and providing implementations to these models now require us to go through some of the concepts that we will see later, for now, what you have above is enough to get a good introduction and intuition for probabilistic models and we will go deeper into it in the future sections, for now a good mystery is always good right 😉."
   ]
  },
  {
   "cell_type": "markdown",
   "metadata": {
    "colab_type": "text",
    "id": "pfm0up7wgTVu"
   },
   "source": [
    "# 💫 Congratulations\n",
    "\n",
    "You have successfully completed Chapter 3 Probability and Information Theory of [Deep Learning with Tensorflow 2.0](https://www.adhiraiyan.org/DeepLearningWithTensorflow.html). To recap, we went through the following concepts:\n",
    "\n",
    "- Why Probability?\n",
    "- Random Variables\n",
    "- Probability Distributions\n",
    "- Marginal Probability\n",
    "- Conditional Probability\n",
    "- The Chain Rule of Conditional Probabilities\n",
    "- Independence and Conditional Independence\n",
    "- Expectation, Variance and Covariance\n",
    "- Common Probability Distributions\n",
    "- Useful Properties of Common Functions\n",
    "- Bayes' Rule\n",
    "- Technical Details of Continuous Variables\n",
    "- Information Theory\n",
    "- Structured Probabilistic Models\n",
    "\n",
    "If you like to go through a more comprehensive probability book that takes you through all the basics and little bit of information theory, I recommend [The Art Of Probability by Hamming](https://www.amazon.com/Art-Probability-Richard-W-Hamming/dp/0201406861/ref=mt_paperback?_encoding=UTF8&me=) (you can find a free version online 😉) or [Introduction to Probability by Bertsekas and Tsitsiklis.](https://www.amazon.com/Introduction-Probability-2nd-Dimitri-Bertsekas/dp/188652923X/ref=dp_ob_title_bk).\n",
    "\n",
    "This chapter has reviewed the basic concepts of probability theory that are most relevant to deep learning. One more set of fundamental mathematical tools remains: numerical methods."
   ]
  },
  {
   "cell_type": "markdown",
   "metadata": {},
   "source": [
    "<!--NAVIGATION-->\n",
    "< [02.00 - Linear Algebra](02.00-Linear-Algebra.ipynb) | [Contents](Index.ipynb) | [04.00 - Numerical Computation](04.00-Numerical-Computation.ipynb) >\n",
    "\n",
    "<a href=\"https://colab.research.google.com/github/adhiraiyan/DeepLearningWithTF2.0/blob/master/notebooks/03.00-Probability-and-Information-Theory.ipynb\"><img align=\"left\" src=\"https://colab.research.google.com/assets/colab-badge.svg\" alt=\"Open in Colab\" title=\"Open and Execute in Google Colaboratory\"></a>\n"
   ]
  }
 ],
 "metadata": {
  "colab": {
   "collapsed_sections": [],
   "name": "03.00-Probability-and-Information-Theory.ipynb",
   "provenance": [],
   "version": "0.3.2"
  },
  "kernelspec": {
   "display_name": "Python 3",
   "name": "python3"
  }
 },
 "nbformat": 4,
 "nbformat_minor": 0
}
